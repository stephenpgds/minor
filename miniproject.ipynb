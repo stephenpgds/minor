{
  "nbformat": 4,
  "nbformat_minor": 0,
  "metadata": {
    "colab": {
      "provenance": [],
      "collapsed_sections": [
        "HNcMoFI1bllZ",
        "s_yQNGc1brUD",
        "fF7hmQxdb0zp",
        "KiZAeWf8ZxlO",
        "HYw6osPKg0HE",
        "CkbH5FLqhSUc",
        "XBMzv4q1hwtD",
        "yBqSOq-6h3PY",
        "0ALMDD2QixUT",
        "DjBAIf4-jWai",
        "YOLPIyQnjyZY",
        "hDO09Rl7j8NJ"
      ]
    },
    "kernelspec": {
      "name": "python3",
      "display_name": "Python 3"
    },
    "language_info": {
      "name": "python"
    }
  },
  "cells": [
    {
      "cell_type": "markdown",
      "source": [
        "#PLASTIC WASTE"
      ],
      "metadata": {
        "id": "YXXJtFghqUTY"
      }
    },
    {
      "cell_type": "code",
      "source": [
        "import pandas as pd\n",
        "import numpy as np\n",
        "import matplotlib.pyplot  as plt\n",
        "from sklearn.linear_model import LinearRegression,Ridge,ElasticNet"
      ],
      "metadata": {
        "id": "-fPE9bZLqR1t"
      },
      "execution_count": null,
      "outputs": []
    },
    {
      "cell_type": "code",
      "source": [
        "world=pd.read_csv(\"country_level_data_0.csv\")\n",
        "world"
      ],
      "metadata": {
        "colab": {
          "base_uri": "https://localhost:8080/",
          "height": 344
        },
        "id": "lH7crc6QNKxJ",
        "outputId": "7d746ee5-b31f-4d82-b136-a254bd7e4877"
      },
      "execution_count": null,
      "outputs": [
        {
          "output_type": "error",
          "ename": "FileNotFoundError",
          "evalue": "ignored",
          "traceback": [
            "\u001b[0;31m---------------------------------------------------------------------------\u001b[0m",
            "\u001b[0;31mFileNotFoundError\u001b[0m                         Traceback (most recent call last)",
            "\u001b[0;32m<ipython-input-4-71aaf1f53690>\u001b[0m in \u001b[0;36m<module>\u001b[0;34m\u001b[0m\n\u001b[0;32m----> 1\u001b[0;31m \u001b[0mworld\u001b[0m\u001b[0;34m=\u001b[0m\u001b[0mpd\u001b[0m\u001b[0;34m.\u001b[0m\u001b[0mread_csv\u001b[0m\u001b[0;34m(\u001b[0m\u001b[0;34m\"country_level_data_0.csv\"\u001b[0m\u001b[0;34m)\u001b[0m\u001b[0;34m\u001b[0m\u001b[0;34m\u001b[0m\u001b[0m\n\u001b[0m\u001b[1;32m      2\u001b[0m \u001b[0mworld\u001b[0m\u001b[0;34m\u001b[0m\u001b[0;34m\u001b[0m\u001b[0m\n",
            "\u001b[0;32m/usr/local/lib/python3.7/dist-packages/pandas/util/_decorators.py\u001b[0m in \u001b[0;36mwrapper\u001b[0;34m(*args, **kwargs)\u001b[0m\n\u001b[1;32m    309\u001b[0m                     \u001b[0mstacklevel\u001b[0m\u001b[0;34m=\u001b[0m\u001b[0mstacklevel\u001b[0m\u001b[0;34m,\u001b[0m\u001b[0;34m\u001b[0m\u001b[0;34m\u001b[0m\u001b[0m\n\u001b[1;32m    310\u001b[0m                 )\n\u001b[0;32m--> 311\u001b[0;31m             \u001b[0;32mreturn\u001b[0m \u001b[0mfunc\u001b[0m\u001b[0;34m(\u001b[0m\u001b[0;34m*\u001b[0m\u001b[0margs\u001b[0m\u001b[0;34m,\u001b[0m \u001b[0;34m**\u001b[0m\u001b[0mkwargs\u001b[0m\u001b[0;34m)\u001b[0m\u001b[0;34m\u001b[0m\u001b[0;34m\u001b[0m\u001b[0m\n\u001b[0m\u001b[1;32m    312\u001b[0m \u001b[0;34m\u001b[0m\u001b[0m\n\u001b[1;32m    313\u001b[0m         \u001b[0;32mreturn\u001b[0m \u001b[0mwrapper\u001b[0m\u001b[0;34m\u001b[0m\u001b[0;34m\u001b[0m\u001b[0m\n",
            "\u001b[0;32m/usr/local/lib/python3.7/dist-packages/pandas/io/parsers/readers.py\u001b[0m in \u001b[0;36mread_csv\u001b[0;34m(filepath_or_buffer, sep, delimiter, header, names, index_col, usecols, squeeze, prefix, mangle_dupe_cols, dtype, engine, converters, true_values, false_values, skipinitialspace, skiprows, skipfooter, nrows, na_values, keep_default_na, na_filter, verbose, skip_blank_lines, parse_dates, infer_datetime_format, keep_date_col, date_parser, dayfirst, cache_dates, iterator, chunksize, compression, thousands, decimal, lineterminator, quotechar, quoting, doublequote, escapechar, comment, encoding, encoding_errors, dialect, error_bad_lines, warn_bad_lines, on_bad_lines, delim_whitespace, low_memory, memory_map, float_precision, storage_options)\u001b[0m\n\u001b[1;32m    584\u001b[0m     \u001b[0mkwds\u001b[0m\u001b[0;34m.\u001b[0m\u001b[0mupdate\u001b[0m\u001b[0;34m(\u001b[0m\u001b[0mkwds_defaults\u001b[0m\u001b[0;34m)\u001b[0m\u001b[0;34m\u001b[0m\u001b[0;34m\u001b[0m\u001b[0m\n\u001b[1;32m    585\u001b[0m \u001b[0;34m\u001b[0m\u001b[0m\n\u001b[0;32m--> 586\u001b[0;31m     \u001b[0;32mreturn\u001b[0m \u001b[0m_read\u001b[0m\u001b[0;34m(\u001b[0m\u001b[0mfilepath_or_buffer\u001b[0m\u001b[0;34m,\u001b[0m \u001b[0mkwds\u001b[0m\u001b[0;34m)\u001b[0m\u001b[0;34m\u001b[0m\u001b[0;34m\u001b[0m\u001b[0m\n\u001b[0m\u001b[1;32m    587\u001b[0m \u001b[0;34m\u001b[0m\u001b[0m\n\u001b[1;32m    588\u001b[0m \u001b[0;34m\u001b[0m\u001b[0m\n",
            "\u001b[0;32m/usr/local/lib/python3.7/dist-packages/pandas/io/parsers/readers.py\u001b[0m in \u001b[0;36m_read\u001b[0;34m(filepath_or_buffer, kwds)\u001b[0m\n\u001b[1;32m    480\u001b[0m \u001b[0;34m\u001b[0m\u001b[0m\n\u001b[1;32m    481\u001b[0m     \u001b[0;31m# Create the parser.\u001b[0m\u001b[0;34m\u001b[0m\u001b[0;34m\u001b[0m\u001b[0;34m\u001b[0m\u001b[0m\n\u001b[0;32m--> 482\u001b[0;31m     \u001b[0mparser\u001b[0m \u001b[0;34m=\u001b[0m \u001b[0mTextFileReader\u001b[0m\u001b[0;34m(\u001b[0m\u001b[0mfilepath_or_buffer\u001b[0m\u001b[0;34m,\u001b[0m \u001b[0;34m**\u001b[0m\u001b[0mkwds\u001b[0m\u001b[0;34m)\u001b[0m\u001b[0;34m\u001b[0m\u001b[0;34m\u001b[0m\u001b[0m\n\u001b[0m\u001b[1;32m    483\u001b[0m \u001b[0;34m\u001b[0m\u001b[0m\n\u001b[1;32m    484\u001b[0m     \u001b[0;32mif\u001b[0m \u001b[0mchunksize\u001b[0m \u001b[0;32mor\u001b[0m \u001b[0miterator\u001b[0m\u001b[0;34m:\u001b[0m\u001b[0;34m\u001b[0m\u001b[0;34m\u001b[0m\u001b[0m\n",
            "\u001b[0;32m/usr/local/lib/python3.7/dist-packages/pandas/io/parsers/readers.py\u001b[0m in \u001b[0;36m__init__\u001b[0;34m(self, f, engine, **kwds)\u001b[0m\n\u001b[1;32m    809\u001b[0m             \u001b[0mself\u001b[0m\u001b[0;34m.\u001b[0m\u001b[0moptions\u001b[0m\u001b[0;34m[\u001b[0m\u001b[0;34m\"has_index_names\"\u001b[0m\u001b[0;34m]\u001b[0m \u001b[0;34m=\u001b[0m \u001b[0mkwds\u001b[0m\u001b[0;34m[\u001b[0m\u001b[0;34m\"has_index_names\"\u001b[0m\u001b[0;34m]\u001b[0m\u001b[0;34m\u001b[0m\u001b[0;34m\u001b[0m\u001b[0m\n\u001b[1;32m    810\u001b[0m \u001b[0;34m\u001b[0m\u001b[0m\n\u001b[0;32m--> 811\u001b[0;31m         \u001b[0mself\u001b[0m\u001b[0;34m.\u001b[0m\u001b[0m_engine\u001b[0m \u001b[0;34m=\u001b[0m \u001b[0mself\u001b[0m\u001b[0;34m.\u001b[0m\u001b[0m_make_engine\u001b[0m\u001b[0;34m(\u001b[0m\u001b[0mself\u001b[0m\u001b[0;34m.\u001b[0m\u001b[0mengine\u001b[0m\u001b[0;34m)\u001b[0m\u001b[0;34m\u001b[0m\u001b[0;34m\u001b[0m\u001b[0m\n\u001b[0m\u001b[1;32m    812\u001b[0m \u001b[0;34m\u001b[0m\u001b[0m\n\u001b[1;32m    813\u001b[0m     \u001b[0;32mdef\u001b[0m \u001b[0mclose\u001b[0m\u001b[0;34m(\u001b[0m\u001b[0mself\u001b[0m\u001b[0;34m)\u001b[0m\u001b[0;34m:\u001b[0m\u001b[0;34m\u001b[0m\u001b[0;34m\u001b[0m\u001b[0m\n",
            "\u001b[0;32m/usr/local/lib/python3.7/dist-packages/pandas/io/parsers/readers.py\u001b[0m in \u001b[0;36m_make_engine\u001b[0;34m(self, engine)\u001b[0m\n\u001b[1;32m   1038\u001b[0m             )\n\u001b[1;32m   1039\u001b[0m         \u001b[0;31m# error: Too many arguments for \"ParserBase\"\u001b[0m\u001b[0;34m\u001b[0m\u001b[0;34m\u001b[0m\u001b[0;34m\u001b[0m\u001b[0m\n\u001b[0;32m-> 1040\u001b[0;31m         \u001b[0;32mreturn\u001b[0m \u001b[0mmapping\u001b[0m\u001b[0;34m[\u001b[0m\u001b[0mengine\u001b[0m\u001b[0;34m]\u001b[0m\u001b[0;34m(\u001b[0m\u001b[0mself\u001b[0m\u001b[0;34m.\u001b[0m\u001b[0mf\u001b[0m\u001b[0;34m,\u001b[0m \u001b[0;34m**\u001b[0m\u001b[0mself\u001b[0m\u001b[0;34m.\u001b[0m\u001b[0moptions\u001b[0m\u001b[0;34m)\u001b[0m  \u001b[0;31m# type: ignore[call-arg]\u001b[0m\u001b[0;34m\u001b[0m\u001b[0;34m\u001b[0m\u001b[0m\n\u001b[0m\u001b[1;32m   1041\u001b[0m \u001b[0;34m\u001b[0m\u001b[0m\n\u001b[1;32m   1042\u001b[0m     \u001b[0;32mdef\u001b[0m \u001b[0m_failover_to_python\u001b[0m\u001b[0;34m(\u001b[0m\u001b[0mself\u001b[0m\u001b[0;34m)\u001b[0m\u001b[0;34m:\u001b[0m\u001b[0;34m\u001b[0m\u001b[0;34m\u001b[0m\u001b[0m\n",
            "\u001b[0;32m/usr/local/lib/python3.7/dist-packages/pandas/io/parsers/c_parser_wrapper.py\u001b[0m in \u001b[0;36m__init__\u001b[0;34m(self, src, **kwds)\u001b[0m\n\u001b[1;32m     49\u001b[0m \u001b[0;34m\u001b[0m\u001b[0m\n\u001b[1;32m     50\u001b[0m         \u001b[0;31m# open handles\u001b[0m\u001b[0;34m\u001b[0m\u001b[0;34m\u001b[0m\u001b[0;34m\u001b[0m\u001b[0m\n\u001b[0;32m---> 51\u001b[0;31m         \u001b[0mself\u001b[0m\u001b[0;34m.\u001b[0m\u001b[0m_open_handles\u001b[0m\u001b[0;34m(\u001b[0m\u001b[0msrc\u001b[0m\u001b[0;34m,\u001b[0m \u001b[0mkwds\u001b[0m\u001b[0;34m)\u001b[0m\u001b[0;34m\u001b[0m\u001b[0;34m\u001b[0m\u001b[0m\n\u001b[0m\u001b[1;32m     52\u001b[0m         \u001b[0;32massert\u001b[0m \u001b[0mself\u001b[0m\u001b[0;34m.\u001b[0m\u001b[0mhandles\u001b[0m \u001b[0;32mis\u001b[0m \u001b[0;32mnot\u001b[0m \u001b[0;32mNone\u001b[0m\u001b[0;34m\u001b[0m\u001b[0;34m\u001b[0m\u001b[0m\n\u001b[1;32m     53\u001b[0m \u001b[0;34m\u001b[0m\u001b[0m\n",
            "\u001b[0;32m/usr/local/lib/python3.7/dist-packages/pandas/io/parsers/base_parser.py\u001b[0m in \u001b[0;36m_open_handles\u001b[0;34m(self, src, kwds)\u001b[0m\n\u001b[1;32m    227\u001b[0m             \u001b[0mmemory_map\u001b[0m\u001b[0;34m=\u001b[0m\u001b[0mkwds\u001b[0m\u001b[0;34m.\u001b[0m\u001b[0mget\u001b[0m\u001b[0;34m(\u001b[0m\u001b[0;34m\"memory_map\"\u001b[0m\u001b[0;34m,\u001b[0m \u001b[0;32mFalse\u001b[0m\u001b[0;34m)\u001b[0m\u001b[0;34m,\u001b[0m\u001b[0;34m\u001b[0m\u001b[0;34m\u001b[0m\u001b[0m\n\u001b[1;32m    228\u001b[0m             \u001b[0mstorage_options\u001b[0m\u001b[0;34m=\u001b[0m\u001b[0mkwds\u001b[0m\u001b[0;34m.\u001b[0m\u001b[0mget\u001b[0m\u001b[0;34m(\u001b[0m\u001b[0;34m\"storage_options\"\u001b[0m\u001b[0;34m,\u001b[0m \u001b[0;32mNone\u001b[0m\u001b[0;34m)\u001b[0m\u001b[0;34m,\u001b[0m\u001b[0;34m\u001b[0m\u001b[0;34m\u001b[0m\u001b[0m\n\u001b[0;32m--> 229\u001b[0;31m             \u001b[0merrors\u001b[0m\u001b[0;34m=\u001b[0m\u001b[0mkwds\u001b[0m\u001b[0;34m.\u001b[0m\u001b[0mget\u001b[0m\u001b[0;34m(\u001b[0m\u001b[0;34m\"encoding_errors\"\u001b[0m\u001b[0;34m,\u001b[0m \u001b[0;34m\"strict\"\u001b[0m\u001b[0;34m)\u001b[0m\u001b[0;34m,\u001b[0m\u001b[0;34m\u001b[0m\u001b[0;34m\u001b[0m\u001b[0m\n\u001b[0m\u001b[1;32m    230\u001b[0m         )\n\u001b[1;32m    231\u001b[0m \u001b[0;34m\u001b[0m\u001b[0m\n",
            "\u001b[0;32m/usr/local/lib/python3.7/dist-packages/pandas/io/common.py\u001b[0m in \u001b[0;36mget_handle\u001b[0;34m(path_or_buf, mode, encoding, compression, memory_map, is_text, errors, storage_options)\u001b[0m\n\u001b[1;32m    705\u001b[0m                 \u001b[0mencoding\u001b[0m\u001b[0;34m=\u001b[0m\u001b[0mioargs\u001b[0m\u001b[0;34m.\u001b[0m\u001b[0mencoding\u001b[0m\u001b[0;34m,\u001b[0m\u001b[0;34m\u001b[0m\u001b[0;34m\u001b[0m\u001b[0m\n\u001b[1;32m    706\u001b[0m                 \u001b[0merrors\u001b[0m\u001b[0;34m=\u001b[0m\u001b[0merrors\u001b[0m\u001b[0;34m,\u001b[0m\u001b[0;34m\u001b[0m\u001b[0;34m\u001b[0m\u001b[0m\n\u001b[0;32m--> 707\u001b[0;31m                 \u001b[0mnewline\u001b[0m\u001b[0;34m=\u001b[0m\u001b[0;34m\"\"\u001b[0m\u001b[0;34m,\u001b[0m\u001b[0;34m\u001b[0m\u001b[0;34m\u001b[0m\u001b[0m\n\u001b[0m\u001b[1;32m    708\u001b[0m             )\n\u001b[1;32m    709\u001b[0m         \u001b[0;32melse\u001b[0m\u001b[0;34m:\u001b[0m\u001b[0;34m\u001b[0m\u001b[0;34m\u001b[0m\u001b[0m\n",
            "\u001b[0;31mFileNotFoundError\u001b[0m: [Errno 2] No such file or directory: 'country_level_data_0.csv'"
          ]
        }
      ]
    },
    {
      "cell_type": "code",
      "source": [
        "world.columns"
      ],
      "metadata": {
        "id": "VdHzDHMATcQt"
      },
      "execution_count": null,
      "outputs": []
    },
    {
      "cell_type": "code",
      "source": [
        "part=pd.DataFrame(list(world.iloc[:,[2,10]].values))\n",
        "part"
      ],
      "metadata": {
        "id": "aP9STrQkThSf"
      },
      "execution_count": null,
      "outputs": []
    },
    {
      "cell_type": "code",
      "source": [
        "mean1=part.mean()\n",
        "mean1"
      ],
      "metadata": {
        "id": "TW1fQLCbTlXM"
      },
      "execution_count": null,
      "outputs": []
    },
    {
      "cell_type": "markdown",
      "source": [
        "####the average percent of plastic present in the total amount of waste considering data of 174 countries we get that about 11.68% of the total waste is plastic which has great potential to produce loop revenues as plastic recycling could be done more than 1 time so even if depreciating in value and ignoring environmental effects we could say that money generated by utilising the plastic waste could be a great factor on world economy ."
      ],
      "metadata": {
        "id": "oGjLLb5obIB0"
      }
    },
    {
      "cell_type": "code",
      "source": [
        "file2=pd.read_csv(\"plastic_waste world data.csv\")\n",
        "from IPython import display\n",
        "display.Image(\"Plastic_Production_Geyer_et_al_K_Law_Presentation.png\")"
      ],
      "metadata": {
        "id": "ZVqYx0osToSk"
      },
      "execution_count": null,
      "outputs": []
    },
    {
      "cell_type": "code",
      "source": [
        "file2"
      ],
      "metadata": {
        "id": "l7daLzQcUBWU"
      },
      "execution_count": null,
      "outputs": []
    },
    {
      "cell_type": "code",
      "source": [
        "Lin=LinearRegression()\n",
        "Rig=Ridge()\n",
        "eln=ElasticNet()"
      ],
      "metadata": {
        "id": "mQoFr37EXc1X"
      },
      "execution_count": null,
      "outputs": []
    },
    {
      "cell_type": "code",
      "source": [
        "x=file2.iloc[:,0].values\n",
        "x\n",
        "xl=list(x)\n",
        "xl"
      ],
      "metadata": {
        "id": "dCmmtRyFXhfX"
      },
      "execution_count": null,
      "outputs": []
    },
    {
      "cell_type": "code",
      "source": [
        "y=file2.iloc[:,1].values\n",
        "yl=list(y)\n",
        "yl"
      ],
      "metadata": {
        "id": "9H02wIfIXlQr"
      },
      "execution_count": null,
      "outputs": []
    },
    {
      "cell_type": "code",
      "source": [
        "plt.bar(list(x),list(y),color='hotpink',width=4)\n",
        "plt.xlabel('Year')\n",
        "plt.ylabel('million metric tonnes of plastic waste')"
      ],
      "metadata": {
        "id": "KQtp18fTXo2t"
      },
      "execution_count": null,
      "outputs": []
    },
    {
      "cell_type": "markdown",
      "source": [
        "###these result are of a best fit line but since the graph seems exponential we need to take the help of a polyfit function inorder to calculate a much more accurate value compared to the linear regression technique."
      ],
      "metadata": {
        "id": "ZSm8UBshbWLi"
      }
    },
    {
      "cell_type": "code",
      "source": [
        "Lin.fit(x.reshape(-1,1),y.reshape(-1,1))\n",
        "Rig.fit(x.reshape(-1,1),y.reshape(-1,1))\n",
        "eln.fit(x.reshape(-1,1),y.reshape(-1,1))\n",
        "print('linear regression result : ' , Lin.predict([[2050]]))\n",
        "print('using elastic net result : ' ,eln.predict([[2050]]))\n",
        "print('with the help of Ridge type regression : ' , Rig.predict([[2022]]))"
      ],
      "metadata": {
        "id": "5smcgQrMXr1D"
      },
      "execution_count": null,
      "outputs": []
    },
    {
      "cell_type": "code",
      "source": [
        "plt.plot(x,y,marker='o',color='black',mfc='red')\n",
        "plt.xlabel('Year')\n",
        "plt.ylabel('million metric tonnes of plastic waste')"
      ],
      "metadata": {
        "id": "WqSRk5AEXwHk"
      },
      "execution_count": null,
      "outputs": []
    },
    {
      "cell_type": "code",
      "source": [
        "model=np.polyfit(x,y,3) # cubic functions seems right enough for the graph"
      ],
      "metadata": {
        "id": "fwJ4T1xsX1Lu"
      },
      "execution_count": null,
      "outputs": []
    },
    {
      "cell_type": "code",
      "source": [
        "predict=np.poly1d(model)"
      ],
      "metadata": {
        "id": "20OFvhS2X7Wg"
      },
      "execution_count": null,
      "outputs": []
    },
    {
      "cell_type": "code",
      "source": [
        "list1=list(range(2020,2055,10))\n",
        "list1"
      ],
      "metadata": {
        "id": "wfSJ-FesX9tg"
      },
      "execution_count": null,
      "outputs": []
    },
    {
      "cell_type": "code",
      "source": [
        "list2=[]\n",
        "for i in list1:\n",
        "    list2.append(predict(i))\n",
        "for i in list1 :\n",
        "    xl.append(i)\n",
        "for i in list2 :\n",
        "    yl.append(i)\n",
        "xl"
      ],
      "metadata": {
        "id": "Vqw--D7HX_y8"
      },
      "execution_count": null,
      "outputs": []
    },
    {
      "cell_type": "code",
      "source": [
        "plt.plot(xl,yl,marker='o',mfc='red',color='black')\n",
        "plt.xlabel('Year')\n",
        "plt.ylabel('million metric tonnes of plastic waste')"
      ],
      "metadata": {
        "id": "CP3YYdQ_YCYp"
      },
      "execution_count": null,
      "outputs": []
    },
    {
      "cell_type": "code",
      "source": [
        "predict([[2050]])"
      ],
      "metadata": {
        "id": "dh3GXgPHYGL0"
      },
      "execution_count": null,
      "outputs": []
    },
    {
      "cell_type": "code",
      "source": [
        "colours=['green','yellow' ,'orange','red']\n",
        "plt.bar(xl,yl,align='center',width=5,color=['green','yellow' ,'orange','red'])"
      ],
      "metadata": {
        "id": "2f8PrdGaYJnW"
      },
      "execution_count": null,
      "outputs": []
    },
    {
      "cell_type": "markdown",
      "source": [
        "###following the predicted projection we could conclude an exponential increase in the plastic waste in the upcoming decades if any laws against their use arent strictly followed or mandated. but their seems to be another economical advantage conjoined to the fact that plastic waste is mostly recyclable ."
      ],
      "metadata": {
        "id": "HNcMoFI1bllZ"
      }
    },
    {
      "cell_type": "code",
      "source": [
        "from IPython import display\n",
        "display.Image(\"/content/Typical-composition-of-plastic-waste-within-MSW-12.png\")"
      ],
      "metadata": {
        "id": "lh9EYWRGYNNm"
      },
      "execution_count": null,
      "outputs": []
    },
    {
      "cell_type": "markdown",
      "source": [
        "####above are the percentages of plastics in use and the quantity of them constituting the waste part. and there respective cost in Rupees per kg are :"
      ],
      "metadata": {
        "id": "s_yQNGc1brUD"
      }
    },
    {
      "cell_type": "code",
      "source": [
        "dfc=20*0.23 + 50*0.19+40*0.14+100*0.06+100*0.09+3*0.10+50*0.19\n",
        "dfc # average cost per kg"
      ],
      "metadata": {
        "id": "17GgpykVY2x1"
      },
      "execution_count": null,
      "outputs": []
    },
    {
      "cell_type": "markdown",
      "source": [
        "####dfc is the average cost of a kg of plastic in india hence to calculate total money generated by plastic waste in 2040 we have to have the predicted amount of plastic generated in 2040 and multiply it with the cost of per kg of plastic waste"
      ],
      "metadata": {
        "id": "fF7hmQxdb0zp"
      }
    },
    {
      "cell_type": "code",
      "source": [
        "value_2040_wasteInKG=predict([[2040]])*1000000000 # converting Million metric tonnes to kg\n",
        "per_kg_cost=dfc\n",
        "value_2040_wasteInKG\n",
        "#per_kg_cost"
      ],
      "metadata": {
        "id": "D6aT1ilsY_oe"
      },
      "execution_count": null,
      "outputs": []
    },
    {
      "cell_type": "code",
      "source": [
        "Total_revenue_by_plastic_recycling=value_2040_wasteInKG*per_kg_cost\n",
        "print(\"total amount generated by recycling and selling plastic according to raw indian market price in Rupees currently in 2021:\")\n",
        "Total_revenue_by_plastic_recycling"
      ],
      "metadata": {
        "id": "4oSuueRMZCbN"
      },
      "execution_count": null,
      "outputs": []
    },
    {
      "cell_type": "code",
      "source": [
        "from sklearn.metrics import mean_squared_error\n",
        "Y_true = [47.38]\n",
        "Y_pred = [dfc]\n",
        "# Calculation of Mean Squared Error (MSE)\n",
        "mse=mean_squared_error(Y_true,Y_pred)\n",
        "mse"
      ],
      "metadata": {
        "id": "Pun8HPRGefiI"
      },
      "execution_count": null,
      "outputs": []
    },
    {
      "cell_type": "markdown",
      "source": [
        "##422,008,333,00,000 Rs of amount is generated by selling all possible recyclable plastic waste about 572,629,015,164.36 dollars as of 08-09-2021 [ the predicted value is for waste in 2040]. the value is equialent to 10 times the current total GDP of Germany\n",
        "##on the other hand only a fraction of it is being recycled for example in india only 9% of total plastic waste was recycled 1 time."
      ],
      "metadata": {
        "id": "l_k629iPZXiz"
      }
    },
    {
      "cell_type": "markdown",
      "source": [
        "###Approximately 6.3 billion tonnes of this has been discarded as waste, of which around 79% has accumulated in landfills or the natural environment, 12% was incinerated, and 9% has been recycled, although only ~1% of all plastic has ever been recycled more than once. - https://en.wikipedia.org/wiki/Plastic_recycling\n",
        "\n",
        "###the potential in plastic recycling business is pretty much evident by the predicted amount of money one could generate by recycling it.\n",
        "\n"
      ],
      "metadata": {
        "id": "KiZAeWf8ZxlO"
      }
    },
    {
      "cell_type": "markdown",
      "source": [
        "#in fact larger business firms have started investing platic reuse programmes :\n",
        "#Managers of American Airlines and Coca-Cola have made buying recycled products part of their overall business strategies."
      ],
      "metadata": {
        "id": "EBOcVuEnZ993"
      }
    },
    {
      "cell_type": "markdown",
      "source": [
        "#FOOD ORGANIC WASTE "
      ],
      "metadata": {
        "id": "uSsy_EVmf-42"
      }
    },
    {
      "cell_type": "code",
      "source": [
        "import pandas as pd\n",
        "import numpy as np\n",
        "import matplotlib.pyplot  as plt\n",
        "from sklearn.linear_model import LinearRegression,Ridge,ElasticNet"
      ],
      "metadata": {
        "id": "rhhhGLeegQ6l"
      },
      "execution_count": null,
      "outputs": []
    },
    {
      "cell_type": "code",
      "source": [
        "world=pd.read_csv(\"country_level_data_0.csv\")\n",
        "world"
      ],
      "metadata": {
        "id": "6V92DZblgZL3"
      },
      "execution_count": null,
      "outputs": []
    },
    {
      "cell_type": "code",
      "source": [
        "world.columns"
      ],
      "metadata": {
        "id": "16HmaFE7gbWE"
      },
      "execution_count": null,
      "outputs": []
    },
    {
      "cell_type": "code",
      "source": [
        "part=pd.DataFrame(list(world.iloc[:,[2,5]].values))\n",
        "part"
      ],
      "metadata": {
        "id": "D1SlqaUVgjZI"
      },
      "execution_count": null,
      "outputs": []
    },
    {
      "cell_type": "code",
      "source": [
        "mean1=part.mean()\n",
        "mean1"
      ],
      "metadata": {
        "id": "0V2JUG6sgsHA"
      },
      "execution_count": null,
      "outputs": []
    },
    {
      "cell_type": "markdown",
      "source": [
        "####the average percent of food organic waste present in the total amount of waste considering data of 174 countries we get that about 41.73% of the total waste is food organic waste which has great potential to produce revenues and we could say that money generated by utilising the food organic :waste could be a great factor on world economy ."
      ],
      "metadata": {
        "id": "HYw6osPKg0HE"
      }
    },
    {
      "cell_type": "code",
      "source": [
        "file2=pd.read_csv(\"OrganicFood_waste world data.csv\")"
      ],
      "metadata": {
        "id": "FGQKt_Dig0k2"
      },
      "execution_count": null,
      "outputs": []
    },
    {
      "cell_type": "code",
      "source": [
        "file2"
      ],
      "metadata": {
        "id": "huElfYw-g8qX"
      },
      "execution_count": null,
      "outputs": []
    },
    {
      "cell_type": "code",
      "source": [
        "Lin=LinearRegression()\n",
        "Rig=Ridge()\n",
        "eln=ElasticNet()"
      ],
      "metadata": {
        "id": "1kXxdFtIhF-6"
      },
      "execution_count": null,
      "outputs": []
    },
    {
      "cell_type": "code",
      "source": [
        "x=file2.iloc[:,0].values\n",
        "x\n",
        "xl=list(x)\n",
        "xl"
      ],
      "metadata": {
        "id": "krzyYLa4hICK"
      },
      "execution_count": null,
      "outputs": []
    },
    {
      "cell_type": "code",
      "source": [
        "y=file2.iloc[:,1].values\n",
        "yl=list(y)\n",
        "yl"
      ],
      "metadata": {
        "id": "WqXbZOaNhKCs"
      },
      "execution_count": null,
      "outputs": []
    },
    {
      "cell_type": "code",
      "source": [
        "plt.bar(list(x),list(y),color='green',width=4)\n",
        "plt.xlabel('Year')\n",
        "plt.ylabel('million metric tonnes of Organnic Food waste')"
      ],
      "metadata": {
        "id": "2zp4TyRxhMno"
      },
      "execution_count": null,
      "outputs": []
    },
    {
      "cell_type": "markdown",
      "source": [
        "###these result are of a best fit line but since the graph seems exponential we need to take the help of a polyfit function inorder to calculate a much more accurate value compared to the linear regression technique."
      ],
      "metadata": {
        "id": "CkbH5FLqhSUc"
      }
    },
    {
      "cell_type": "code",
      "source": [
        "Lin.fit(x.reshape(-1,1),y.reshape(-1,1))\n",
        "Rig.fit(x.reshape(-1,1),y.reshape(-1,1))\n",
        "eln.fit(x.reshape(-1,1),y.reshape(-1,1))\n",
        "print('linear regression result : ' , Lin.predict([[2050]]))\n",
        "print('using elastic net result : ' ,eln.predict([[2022]]))\n",
        "print('with the help of Ridge type regression : ' , Rig.predict([[2050]]))"
      ],
      "metadata": {
        "id": "oLcMhYkIhOmN"
      },
      "execution_count": null,
      "outputs": []
    },
    {
      "cell_type": "code",
      "source": [
        "plt.plot(x,y,marker='o',color='black',mfc='red')\n",
        "plt.xlabel('Year')\n",
        "plt.ylabel('million metric tonnes of Organic Food Waste')"
      ],
      "metadata": {
        "id": "Sp6Mbs25hXLS"
      },
      "execution_count": null,
      "outputs": []
    },
    {
      "cell_type": "code",
      "source": [
        "model=np.polyfit(x,y,3) # cubic functions seems right enough for the graph"
      ],
      "metadata": {
        "id": "ScO5dciDhZY4"
      },
      "execution_count": null,
      "outputs": []
    },
    {
      "cell_type": "code",
      "source": [
        "predict=np.poly1d(model)"
      ],
      "metadata": {
        "id": "NhGN8X6chb-x"
      },
      "execution_count": null,
      "outputs": []
    },
    {
      "cell_type": "code",
      "source": [
        "list1=list(range(2020,2055,10))\n",
        "list1"
      ],
      "metadata": {
        "id": "delvMdCmheA1"
      },
      "execution_count": null,
      "outputs": []
    },
    {
      "cell_type": "code",
      "source": [
        "list2=[]\n",
        "for i in list1:\n",
        "    list2.append(predict(i))\n",
        "for i in list1 :\n",
        "    xl.append(i)\n",
        "for i in list2 :\n",
        "    yl.append(i)\n",
        "xl"
      ],
      "metadata": {
        "id": "E9Y9p3HEhf60"
      },
      "execution_count": null,
      "outputs": []
    },
    {
      "cell_type": "code",
      "source": [
        "plt.plot(xl,yl,marker='o',mfc='red',color='black')\n",
        "plt.xlabel('Year')\n",
        "plt.ylabel('million metric tonnes of organic food waste')"
      ],
      "metadata": {
        "id": "3cEYiErqhhmL"
      },
      "execution_count": null,
      "outputs": []
    },
    {
      "cell_type": "code",
      "source": [
        "predict([[2050]])"
      ],
      "metadata": {
        "id": "t6DBSMQ1hkEU"
      },
      "execution_count": null,
      "outputs": []
    },
    {
      "cell_type": "code",
      "source": [
        "colours=['green','yellow' ,'orange','red']\n",
        "plt.bar(xl,yl,align='center',width=5,color=['green','yellow' ,'orange','red'])"
      ],
      "metadata": {
        "id": "eXCxIKFIhnMo"
      },
      "execution_count": null,
      "outputs": []
    },
    {
      "cell_type": "code",
      "source": [
        "from IPython import display\n",
        "display.Image(\"Typical-composition-of-organic-waste-within-MSW-12.png\")"
      ],
      "metadata": {
        "id": "VUtwXd8Yhph5"
      },
      "execution_count": null,
      "outputs": []
    },
    {
      "cell_type": "markdown",
      "source": [
        "####above are the percentages of organic food wastes in use and the quantity of them constituting the waste part. and there respective cost in Rupees per kg are :"
      ],
      "metadata": {
        "id": "XBMzv4q1hwtD"
      }
    },
    {
      "cell_type": "code",
      "source": [
        "dfc=10*0.25+20*0.40+8*0.15+30*0.20\n",
        "dfc # average cost per kg"
      ],
      "metadata": {
        "id": "Qt1bj7sFhsJP"
      },
      "execution_count": null,
      "outputs": []
    },
    {
      "cell_type": "markdown",
      "source": [
        "####dfc is the average cost of a kg of organic food waste in india hence to calculate total money generated by organic food waste in 2040 we have to have the predicted amount of food waste generated in 2040 and multiply it with the cost of per kg of food waste"
      ],
      "metadata": {
        "id": "yBqSOq-6h3PY"
      }
    },
    {
      "cell_type": "code",
      "source": [
        "value_2040_wasteInKG=predict([[2040]])*1000000000 # converting Million metric tonnes to kg\n",
        "per_kg_cost=dfc\n",
        "value_2040_wasteInKG\n",
        "#per_kg_cost"
      ],
      "metadata": {
        "id": "qojfDNdWh21c"
      },
      "execution_count": null,
      "outputs": []
    },
    {
      "cell_type": "code",
      "source": [
        "Total_revenue_by_foodwaste=value_2040_wasteInKG*per_kg_cost\n",
        "print(\"total amount of food organic waste generated according to raw indian market price in Rupees currently in 2022:\")\n",
        "Total_revenue_by_foodwaste"
      ],
      "metadata": {
        "id": "9CquqEvkhzY5"
      },
      "execution_count": null,
      "outputs": []
    },
    {
      "cell_type": "code",
      "source": [
        "from sklearn.metrics import mean_squared_error\n",
        "Y_true = [20.7]\n",
        "Y_pred = [dfc]\n",
        "# Calculation of Mean Squared Error (MSE)\n",
        "mse=mean_squared_error(Y_true,Y_pred)\n",
        "mse"
      ],
      "metadata": {
        "id": "mtlPApeyh8ae"
      },
      "execution_count": null,
      "outputs": []
    },
    {
      "cell_type": "markdown",
      "source": [
        "##662,317,143,00,000 Rs of amount is generated by selling all possible organic food waste[ the predicted value is for waste in 2040]. \n"
      ],
      "metadata": {
        "id": "QUTI5rDKiEqt"
      }
    },
    {
      "cell_type": "markdown",
      "source": [
        "#METAL WASTE"
      ],
      "metadata": {
        "id": "3BE2xuHiiHNM"
      }
    },
    {
      "cell_type": "code",
      "source": [
        "import pandas as pd\n",
        "import numpy as np\n",
        "import matplotlib.pyplot  as plt\n",
        "from sklearn.linear_model import LinearRegression,Ridge,ElasticNet"
      ],
      "metadata": {
        "id": "4Uh4CXfdiL76"
      },
      "execution_count": null,
      "outputs": []
    },
    {
      "cell_type": "code",
      "source": [
        "world=pd.read_csv(\"country_level_data_0.csv\")\n",
        "world"
      ],
      "metadata": {
        "id": "KbuIxHOmihEV"
      },
      "execution_count": null,
      "outputs": []
    },
    {
      "cell_type": "code",
      "source": [
        "world.columns"
      ],
      "metadata": {
        "id": "HO0dleWmijEj"
      },
      "execution_count": null,
      "outputs": []
    },
    {
      "cell_type": "code",
      "source": [
        "part=pd.DataFrame(list(world.iloc[:,[2,7]].values))\n",
        "part"
      ],
      "metadata": {
        "id": "aBi5t3dwilRE"
      },
      "execution_count": null,
      "outputs": []
    },
    {
      "cell_type": "code",
      "source": [
        "mean1=part.mean()\n",
        "mean1"
      ],
      "metadata": {
        "id": "SSP4PTWAioFN"
      },
      "execution_count": null,
      "outputs": []
    },
    {
      "cell_type": "markdown",
      "source": [
        "####the average percent of metal waste present in the total amount of waste considering data of 174 countries we get that about 4.27% of the total waste is metal waste which has potential to produce revenues and we could say that money generated by utilising the metal :waste could be a great factor on world economy ."
      ],
      "metadata": {
        "id": "0ALMDD2QixUT"
      }
    },
    {
      "cell_type": "code",
      "source": [
        "file2=pd.read_csv(\"/content/metal_waste world data.csv\")"
      ],
      "metadata": {
        "id": "AsPfocjIirkV"
      },
      "execution_count": null,
      "outputs": []
    },
    {
      "cell_type": "code",
      "source": [
        "file2"
      ],
      "metadata": {
        "id": "Ef06GUmNi2HR"
      },
      "execution_count": null,
      "outputs": []
    },
    {
      "cell_type": "code",
      "source": [
        "Lin=LinearRegression()\n",
        "Rig=Ridge()\n",
        "eln=ElasticNet()"
      ],
      "metadata": {
        "id": "I29ORx6XjIx8"
      },
      "execution_count": null,
      "outputs": []
    },
    {
      "cell_type": "code",
      "source": [
        "x=file2.iloc[:,0].values\n",
        "x\n",
        "xl=list(x)\n",
        "xl"
      ],
      "metadata": {
        "id": "7n1N4QQrjKwj"
      },
      "execution_count": null,
      "outputs": []
    },
    {
      "cell_type": "code",
      "source": [
        "y=file2.iloc[:,1].values\n",
        "yl=list(y)\n",
        "yl"
      ],
      "metadata": {
        "id": "m9h3d01mjMs2"
      },
      "execution_count": null,
      "outputs": []
    },
    {
      "cell_type": "code",
      "source": [
        "plt.bar(list(x),list(y),color='skyblue',width=4)\n",
        "plt.xlabel('Year')\n",
        "plt.ylabel('million metric tonnes of Metal waste')"
      ],
      "metadata": {
        "id": "53UBvrvXjRGN"
      },
      "execution_count": null,
      "outputs": []
    },
    {
      "cell_type": "markdown",
      "source": [
        "###these result are of a best fit line but since the graph seems exponential we need to take the help of a polyfit function inorder to calculate a much more accurate value compared to the linear regression technique."
      ],
      "metadata": {
        "id": "DjBAIf4-jWai"
      }
    },
    {
      "cell_type": "code",
      "source": [
        "Lin.fit(x.reshape(-1,1),y.reshape(-1,1))\n",
        "Rig.fit(x.reshape(-1,1),y.reshape(-1,1))\n",
        "eln.fit(x.reshape(-1,1),y.reshape(-1,1))\n",
        "print('linear regression result : ' , Lin.predict([[2050]]))\n",
        "print('using elastic net result : ' ,eln.predict([[2022]]))\n",
        "print('with the help of Ridge type regression : ' , Rig.predict([[2050]]))"
      ],
      "metadata": {
        "id": "uAdoJLXCjS2A"
      },
      "execution_count": null,
      "outputs": []
    },
    {
      "cell_type": "code",
      "source": [
        "plt.plot(x,y,marker='o',color='black',mfc='red')\n",
        "plt.xlabel('Year')\n",
        "plt.ylabel('million metric tonnes of Metal Waste')"
      ],
      "metadata": {
        "id": "JpNOg9wbjZo7"
      },
      "execution_count": null,
      "outputs": []
    },
    {
      "cell_type": "code",
      "source": [
        "model=np.polyfit(x,y,3) # cubic functions seems right enough for the graph"
      ],
      "metadata": {
        "id": "mU-SnxAZjbl5"
      },
      "execution_count": null,
      "outputs": []
    },
    {
      "cell_type": "code",
      "source": [
        "predict=np.poly1d(model)"
      ],
      "metadata": {
        "id": "BJ0WgDYqjeWQ"
      },
      "execution_count": null,
      "outputs": []
    },
    {
      "cell_type": "code",
      "source": [
        "list1=list(range(2020,2055,10))\n",
        "list1"
      ],
      "metadata": {
        "id": "TGspGWWGjgPI"
      },
      "execution_count": null,
      "outputs": []
    },
    {
      "cell_type": "code",
      "source": [
        "list2=[]\n",
        "for i in list1:\n",
        "    list2.append(predict(i))\n",
        "for i in list1 :\n",
        "    xl.append(i)\n",
        "for i in list2 :\n",
        "    yl.append(i)\n",
        "print(xl)"
      ],
      "metadata": {
        "id": "jX76jshcjh0a"
      },
      "execution_count": null,
      "outputs": []
    },
    {
      "cell_type": "code",
      "source": [
        "plt.plot(xl,yl,marker='o',mfc='red',color='black')\n",
        "plt.xlabel('Year')\n",
        "plt.ylabel('million metric tonnes of Metal waste')"
      ],
      "metadata": {
        "id": "SW1t-Sf_jjls"
      },
      "execution_count": null,
      "outputs": []
    },
    {
      "cell_type": "code",
      "source": [
        "predict([[2050]])"
      ],
      "metadata": {
        "id": "eT5dY6TXjmCo"
      },
      "execution_count": null,
      "outputs": []
    },
    {
      "cell_type": "code",
      "source": [
        "colours=['green','yellow' ,'orange','red']\n",
        "plt.bar(xl,yl,align='center',width=5,color=['green','yellow' ,'orange','red'])"
      ],
      "metadata": {
        "id": "i6BiRi7Ijp_w"
      },
      "execution_count": null,
      "outputs": []
    },
    {
      "cell_type": "code",
      "source": [
        "from IPython import display\n",
        "display.Image(\"Typical-composition-of-metal-waste-within-MSW-12.png\")"
      ],
      "metadata": {
        "id": "u1nSI4yHjr5Q"
      },
      "execution_count": null,
      "outputs": []
    },
    {
      "cell_type": "markdown",
      "source": [
        "####above are the percentages of metal wastes in use and the quantity of them constituting the waste part. and there respective cost in Rupees per kg are :"
      ],
      "metadata": {
        "id": "YOLPIyQnjyZY"
      }
    },
    {
      "cell_type": "code",
      "source": [
        "dfc=60*0.54+125*0.15+150*0.24+20*0.07\n",
        "dfc # average cost per kg"
      ],
      "metadata": {
        "id": "IKpApRPrjuMH"
      },
      "execution_count": null,
      "outputs": []
    },
    {
      "cell_type": "markdown",
      "source": [
        "####dfc is the average cost of a kg of metal waste in india hence to calculate total money generated by metal food waste in 2040 we have to have the predicted amount of metal waste generated in 2040 and multiply it with the cost of per kg of metal waste"
      ],
      "metadata": {
        "id": "hDO09Rl7j8NJ"
      }
    },
    {
      "cell_type": "code",
      "source": [
        "value_2040_wasteInKG=predict([[2040]])*1000000000 # converting Million metric tonnes to kg\n",
        "per_kg_cost=dfc\n",
        "value_2040_wasteInKG\n",
        "#per_kg_cost"
      ],
      "metadata": {
        "id": "EWUwugRIj4N5"
      },
      "execution_count": null,
      "outputs": []
    },
    {
      "cell_type": "code",
      "source": [
        "Total_revenue_by_metalwaste=value_2040_wasteInKG*per_kg_cost\n",
        "print(\"total amount of metal waste generated by recycling and selling metal according to raw indian market price in Rupees currently in 2021:\")\n",
        "Total_revenue_by_metalwaste"
      ],
      "metadata": {
        "id": "R6GG1RMJkH8G"
      },
      "execution_count": null,
      "outputs": []
    },
    {
      "cell_type": "code",
      "source": [
        "from sklearn.metrics import mean_squared_error\n",
        "Y_true = [90.94]\n",
        "Y_pred = [dfc]\n",
        "# Calculation of Mean Squared Error (MSE)\n",
        "mse=mean_squared_error(Y_true,Y_pred)\n",
        "mse"
      ],
      "metadata": {
        "id": "xrJJWwEykKVR"
      },
      "execution_count": null,
      "outputs": []
    },
    {
      "cell_type": "markdown",
      "source": [
        "##839,749,167,00,000 Rs of amount is generated by selling all possible metal waste[ the predicted value is for waste in 2040]. \n"
      ],
      "metadata": {
        "id": "lim7eaNLkS0j"
      }
    },
    {
      "cell_type": "markdown",
      "source": [
        "#PAPER WASTE"
      ],
      "metadata": {
        "id": "CGhVYV40kWFY"
      }
    },
    {
      "cell_type": "code",
      "source": [
        "import pandas as pd\n",
        "import numpy as np\n",
        "import matplotlib.pyplot  as plt\n",
        "from sklearn.linear_model import LinearRegression,Ridge,ElasticNet"
      ],
      "metadata": {
        "id": "lldxWSRGllol"
      },
      "execution_count": null,
      "outputs": []
    },
    {
      "cell_type": "code",
      "source": [
        "world=pd.read_csv(\"country_level_data_0.csv\")\n",
        "world"
      ],
      "metadata": {
        "id": "pbpLxlSDmtZ6"
      },
      "execution_count": null,
      "outputs": []
    },
    {
      "cell_type": "code",
      "source": [
        "world.columns"
      ],
      "metadata": {
        "id": "J8S5_Gi3m6ga"
      },
      "execution_count": null,
      "outputs": []
    },
    {
      "cell_type": "code",
      "source": [
        "part=pd.DataFrame(list(world.iloc[:,[2,9]].values))\n",
        "part"
      ],
      "metadata": {
        "id": "vYsYr9dVm-Ao"
      },
      "execution_count": null,
      "outputs": []
    },
    {
      "cell_type": "code",
      "source": [
        "mean1=part.mean()\n",
        "mean1"
      ],
      "metadata": {
        "id": "99TEblh5nA0G"
      },
      "execution_count": null,
      "outputs": []
    },
    {
      "cell_type": "markdown",
      "source": [
        "####the average percent of paper present in the total amount of waste considering data of 174 countries we get that about 15.27% of the total waste is paper which has great potential to produce loop revenues as plastic recycling could be done more than 1 time so even if depreciating in value and ignoring environmental effects we could say that money generated by utilising the paper waste could be a great factor on world economy ."
      ],
      "metadata": {
        "id": "CB1HCOA0nJ0W"
      }
    },
    {
      "cell_type": "code",
      "source": [
        "file2=pd.read_csv(\"/content/paper_waste world data.csv\")\n",
        "from IPython import display\n",
        "display.Image(\"paper recycling.png\")\n",
        "\n",
        "file2=pd.read_csv(\"/content/paper_waste world data.csv\")\n",
        "from IPython import display\n",
        "display.Image(\"paper recycling.png\")"
      ],
      "metadata": {
        "id": "bxBZPUZdnD2y"
      },
      "execution_count": null,
      "outputs": []
    },
    {
      "cell_type": "code",
      "source": [
        "file2"
      ],
      "metadata": {
        "id": "eAOFqkKYnMr3"
      },
      "execution_count": null,
      "outputs": []
    },
    {
      "cell_type": "code",
      "source": [
        "Lin=LinearRegression()\n",
        "Rig=Ridge()\n",
        "eln=ElasticNet()"
      ],
      "metadata": {
        "id": "cTXr-Q94nRJo"
      },
      "execution_count": null,
      "outputs": []
    },
    {
      "cell_type": "code",
      "source": [
        "x=file2.iloc[:,0].values\n",
        "x\n",
        "xl=list(x)\n",
        "xl"
      ],
      "metadata": {
        "id": "XYquOjo7nTms"
      },
      "execution_count": null,
      "outputs": []
    },
    {
      "cell_type": "code",
      "source": [
        "y=file2.iloc[:,1].values\n",
        "yl=list(y)\n",
        "yl"
      ],
      "metadata": {
        "id": "v8swuo9xna1h"
      },
      "execution_count": null,
      "outputs": []
    },
    {
      "cell_type": "code",
      "source": [
        "plt.bar(list(x),list(y),color='black',width=4)\n",
        "plt.xlabel('Year')\n",
        "plt.ylabel('million metric tonnes of paper waste')"
      ],
      "metadata": {
        "id": "MtB2JQV8ncxC"
      },
      "execution_count": null,
      "outputs": []
    },
    {
      "cell_type": "markdown",
      "source": [
        "###these result are of a best fit line but since the graph seems exponential we need to take the help of a polyfit function inorder to calculate a much more accurate value compared to the linear regression technique."
      ],
      "metadata": {
        "id": "rXTndMuyni6W"
      }
    },
    {
      "cell_type": "code",
      "source": [
        "Lin.fit(x.reshape(-1,1),y.reshape(-1,1))\n",
        "Rig.fit(x.reshape(-1,1),y.reshape(-1,1))\n",
        "eln.fit(x.reshape(-1,1),y.reshape(-1,1))\n",
        "print('linear regression result : ' , Lin.predict([[2050]]))\n",
        "print('using elastic net result : ' ,eln.predict([[2050]]))\n",
        "print('with the help of Ridge type regression : ' , Rig.predict([[2050]]))"
      ],
      "metadata": {
        "id": "qFHt9EyjnfuA"
      },
      "execution_count": null,
      "outputs": []
    },
    {
      "cell_type": "code",
      "source": [
        "plt.plot(x,y,marker='o',color='black',mfc='red')\n",
        "plt.xlabel('Year')\n",
        "plt.ylabel('million metric tonnes of paper waste')"
      ],
      "metadata": {
        "id": "VA0G5JbXnlEb"
      },
      "execution_count": null,
      "outputs": []
    },
    {
      "cell_type": "code",
      "source": [
        "model=np.polyfit(x,y,3) # cubic functions seems right enough for the graph"
      ],
      "metadata": {
        "id": "4dNEO-IonnTT"
      },
      "execution_count": null,
      "outputs": []
    },
    {
      "cell_type": "code",
      "source": [
        "predict=np.poly1d(model)"
      ],
      "metadata": {
        "id": "WnDRR6cSnpoG"
      },
      "execution_count": null,
      "outputs": []
    },
    {
      "cell_type": "code",
      "source": [
        "list1=list(range(2020,2055,10))\n",
        "list1"
      ],
      "metadata": {
        "id": "HVp0GHUTnrav"
      },
      "execution_count": null,
      "outputs": []
    },
    {
      "cell_type": "code",
      "source": [
        "list2=[]\n",
        "for i in list1:\n",
        "    list2.append(predict(i))\n",
        "for i in list1 :\n",
        "    xl.append(i)\n",
        "for i in list2 :\n",
        "    yl.append(i)\n",
        "xl"
      ],
      "metadata": {
        "id": "YBUfcrjwntIw"
      },
      "execution_count": null,
      "outputs": []
    },
    {
      "cell_type": "code",
      "source": [
        "plt.plot(xl,yl,marker='o',mfc='red',color='black')\n",
        "plt.xlabel('Year')\n",
        "plt.ylabel('million metric tonnes of paper waste')"
      ],
      "metadata": {
        "id": "np-u4OgBnu_6"
      },
      "execution_count": null,
      "outputs": []
    },
    {
      "cell_type": "code",
      "source": [
        "predict([[2050]])"
      ],
      "metadata": {
        "id": "auTL9b5enxea"
      },
      "execution_count": null,
      "outputs": []
    },
    {
      "cell_type": "code",
      "source": [
        "colours=['green','yellow' ,'orange','red']\n",
        "plt.bar(xl,yl,align='center',width=5,color=['green','yellow' ,'orange','red'])"
      ],
      "metadata": {
        "id": "TxtZFTVZn0FZ"
      },
      "execution_count": null,
      "outputs": []
    },
    {
      "cell_type": "markdown",
      "source": [
        "###following the predicted projection we could conclude an exponential increase in the plastic waste in the upcoming decades if any laws against their use arent strictly followed or mandated. but their seems to be another economical advantage conjoined to the fact that paper waste is mostly recyclable ."
      ],
      "metadata": {
        "id": "cWVrAaABn5PP"
      }
    },
    {
      "cell_type": "code",
      "source": [
        "from IPython import display\n",
        "display.Image(\"Typical-composition-of-paper-waste-within-MSW-12.png\")"
      ],
      "metadata": {
        "id": "akQkyL6bn2Bx"
      },
      "execution_count": null,
      "outputs": []
    },
    {
      "cell_type": "markdown",
      "source": [
        "####above are the percentages of papers in use and the quantity of them constituting the waste part. and there respective cost in Rupees per kg are :"
      ],
      "metadata": {
        "id": "th_52x3MoAUh"
      }
    },
    {
      "cell_type": "code",
      "source": [
        "dfc=20*0.27 + 50*0.15+40*0.23+100*0.18+100*0.17\n",
        "dfc # average cost per kg"
      ],
      "metadata": {
        "id": "yLh0ZaWQn7V3"
      },
      "execution_count": null,
      "outputs": []
    },
    {
      "cell_type": "markdown",
      "source": [
        "####dfc is the average cost of a kg of paper in india hence to calculate total money generated by plastic waste in 2040 we have to have the predicted amount of plastic generated in 2040 and multiply it with the cost of per kg of paper waste"
      ],
      "metadata": {
        "id": "dfRPOnOSoG1Y"
      }
    },
    {
      "cell_type": "code",
      "source": [
        "value_2040_wasteInKG=predict([[2040]])*1000000000 # converting Million metric tonnes to kg\n",
        "per_kg_cost=dfc"
      ],
      "metadata": {
        "id": "uTcNPM2XoIvv"
      },
      "execution_count": null,
      "outputs": []
    },
    {
      "cell_type": "code",
      "source": [
        "Total_revenue_by_paper_recycling=value_2040_wasteInKG*per_kg_cost\n",
        "print(\"total amount generated by recycling and selling paper according to raw indian market price in Rupees currently in 2021:\")\n",
        "Total_revenue_by_paper_recycling"
      ],
      "metadata": {
        "id": "Z-dt2nAHoLOq"
      },
      "execution_count": null,
      "outputs": []
    },
    {
      "cell_type": "code",
      "source": [
        "from sklearn.metrics import mean_squared_error\n",
        "Y_true = [59.48]\n",
        "Y_pred = [dfc]\n",
        "# Calculation of Mean Squared Error (MSE)\n",
        "mse=mean_squared_error(Y_true,Y_pred)\n",
        "mse"
      ],
      "metadata": {
        "id": "8eNUvk1woM_2"
      },
      "execution_count": null,
      "outputs": []
    },
    {
      "cell_type": "markdown",
      "source": [
        "##316,769,048,000,000 Rs of amount is generated by selling all possible recyclable paper waste "
      ],
      "metadata": {
        "id": "lu91P_mRoUuo"
      }
    },
    {
      "cell_type": "markdown",
      "source": [
        "#GLASS WASTE"
      ],
      "metadata": {
        "id": "lOQCCiZCoWj8"
      }
    },
    {
      "cell_type": "code",
      "source": [
        "import pandas as pd\n",
        "import numpy as np\n",
        "import matplotlib.pyplot  as plt\n",
        "from sklearn.linear_model import LinearRegression,Ridge,ElasticNet"
      ],
      "metadata": {
        "id": "NAxxsA5SoYin"
      },
      "execution_count": null,
      "outputs": []
    },
    {
      "cell_type": "code",
      "source": [
        "world=pd.read_csv(\"country_level_data_0.csv\")\n",
        "world"
      ],
      "metadata": {
        "id": "w_UHea9KoqyP"
      },
      "execution_count": null,
      "outputs": []
    },
    {
      "cell_type": "code",
      "source": [
        "world.columns"
      ],
      "metadata": {
        "id": "k22Cu7t9osmg"
      },
      "execution_count": null,
      "outputs": []
    },
    {
      "cell_type": "code",
      "source": [
        "part=pd.DataFrame(list(world.iloc[:,[2,6]].values))\n",
        "part"
      ],
      "metadata": {
        "id": "btpzAKDQoue3"
      },
      "execution_count": null,
      "outputs": []
    },
    {
      "cell_type": "code",
      "source": [
        "mean1=part.mean()\n",
        "mean1"
      ],
      "metadata": {
        "id": "bTT8LOFJoxAX"
      },
      "execution_count": null,
      "outputs": []
    },
    {
      "cell_type": "code",
      "source": [
        "file2=pd.read_csv(\"glass_wastage_worlddata.csv\")\n",
        "file2"
      ],
      "metadata": {
        "id": "v4LavL9LozBz"
      },
      "execution_count": null,
      "outputs": []
    },
    {
      "cell_type": "code",
      "source": [
        "Lin=LinearRegression()\n",
        "Rig=Ridge()\n",
        "eln=ElasticNet()"
      ],
      "metadata": {
        "id": "TCAn9vBso04Z"
      },
      "execution_count": null,
      "outputs": []
    },
    {
      "cell_type": "code",
      "source": [
        "x=file2.iloc[:,0].values\n",
        "x\n",
        "xl=list(x)\n",
        "xl"
      ],
      "metadata": {
        "id": "tDRAiEaao24N"
      },
      "execution_count": null,
      "outputs": []
    },
    {
      "cell_type": "code",
      "source": [
        "y=file2.iloc[:,1].values\n",
        "yl=list(y)\n",
        "yl"
      ],
      "metadata": {
        "colab": {
          "base_uri": "https://localhost:8080/",
          "height": 209
        },
        "id": "oVbyMO6wo4Ze",
        "outputId": "ccd6cc8e-1fb7-4fd2-dedb-2dc1a45cb89d"
      },
      "execution_count": null,
      "outputs": [
        {
          "output_type": "error",
          "ename": "NameError",
          "evalue": "ignored",
          "traceback": [
            "\u001b[0;31m---------------------------------------------------------------------------\u001b[0m",
            "\u001b[0;31mNameError\u001b[0m                                 Traceback (most recent call last)",
            "\u001b[0;32m<ipython-input-5-a5c345307bf9>\u001b[0m in \u001b[0;36m<module>\u001b[0;34m\u001b[0m\n\u001b[0;32m----> 1\u001b[0;31m \u001b[0my\u001b[0m\u001b[0;34m=\u001b[0m\u001b[0mfile2\u001b[0m\u001b[0;34m.\u001b[0m\u001b[0miloc\u001b[0m\u001b[0;34m[\u001b[0m\u001b[0;34m:\u001b[0m\u001b[0;34m,\u001b[0m\u001b[0;36m1\u001b[0m\u001b[0;34m]\u001b[0m\u001b[0;34m.\u001b[0m\u001b[0mvalues\u001b[0m\u001b[0;34m\u001b[0m\u001b[0;34m\u001b[0m\u001b[0m\n\u001b[0m\u001b[1;32m      2\u001b[0m \u001b[0myl\u001b[0m\u001b[0;34m=\u001b[0m\u001b[0mlist\u001b[0m\u001b[0;34m(\u001b[0m\u001b[0my\u001b[0m\u001b[0;34m)\u001b[0m\u001b[0;34m\u001b[0m\u001b[0;34m\u001b[0m\u001b[0m\n\u001b[1;32m      3\u001b[0m \u001b[0myl\u001b[0m\u001b[0;34m\u001b[0m\u001b[0;34m\u001b[0m\u001b[0m\n",
            "\u001b[0;31mNameError\u001b[0m: name 'file2' is not defined"
          ]
        }
      ]
    },
    {
      "cell_type": "code",
      "source": [
        "plt.bar(list(x),list(y),color='blue',width=4)\n",
        "plt.xlabel('Year')\n",
        "plt.ylabel('million metric tonnes of glass waste')"
      ],
      "metadata": {
        "id": "L_53N2JLo6aQ"
      },
      "execution_count": null,
      "outputs": []
    },
    {
      "cell_type": "markdown",
      "source": [
        "###these result are of a best fit line but since the graph seems exponential we need to take the help of a polyfit function inorder to calculate a much more accurate value compared to the linear regression technique."
      ],
      "metadata": {
        "id": "oN_vlDegpAJR"
      }
    },
    {
      "cell_type": "code",
      "source": [
        "Lin.fit(x.reshape(-1,1),y.reshape(-1,1))\n",
        "Rig.fit(x.reshape(-1,1),y.reshape(-1,1))\n",
        "eln.fit(x.reshape(-1,1),y.reshape(-1,1))\n",
        "print('linear regression result : ' , Lin.predict([[2050]]))\n",
        "print('using elastic net result : ' ,eln.predict([[2050]]))\n",
        "print('with the help of Ridge type regression : ' , Rig.predict([[2050]]))"
      ],
      "metadata": {
        "id": "hO5Y2gaGo77F"
      },
      "execution_count": null,
      "outputs": []
    },
    {
      "cell_type": "code",
      "source": [
        "plt.plot(x,y,marker='o',color='black',mfc='red')\n",
        "plt.xlabel('Year')\n",
        "plt.ylabel('million metric tonnes of plastic waste')"
      ],
      "metadata": {
        "id": "gukorepFpDBe"
      },
      "execution_count": null,
      "outputs": []
    },
    {
      "cell_type": "code",
      "source": [
        "model=np.polyfit(x,y,3) # cubic functions seems right enough for the graph"
      ],
      "metadata": {
        "id": "DAnhm-bNpEuY"
      },
      "execution_count": null,
      "outputs": []
    },
    {
      "cell_type": "code",
      "source": [
        "predict=np.poly1d(model)"
      ],
      "metadata": {
        "id": "dnc5vWv9pG6t"
      },
      "execution_count": null,
      "outputs": []
    },
    {
      "cell_type": "code",
      "source": [
        "list1=list(range(2020,2055,10))\n",
        "list1"
      ],
      "metadata": {
        "id": "Ci3pQko0pJce"
      },
      "execution_count": null,
      "outputs": []
    },
    {
      "cell_type": "code",
      "source": [
        "list2=[]\n",
        "for i in list1:\n",
        "    list2.append(predict(i))\n",
        "for i in list1 :\n",
        "    xl.append(i)\n",
        "for i in list2 :\n",
        "    yl.append(i)\n",
        "xl"
      ],
      "metadata": {
        "id": "l06C2JeSpLGY"
      },
      "execution_count": null,
      "outputs": []
    },
    {
      "cell_type": "code",
      "source": [
        "plt.plot(xl,yl,marker='o',mfc='red',color='black')\n",
        "plt.xlabel('Year')\n",
        "plt.ylabel('million metric tonnes of plastic waste')"
      ],
      "metadata": {
        "id": "DuV8JnYGpM9F"
      },
      "execution_count": null,
      "outputs": []
    },
    {
      "cell_type": "code",
      "source": [
        "predict([[2050]])"
      ],
      "metadata": {
        "id": "DNRZQ8YVpO60"
      },
      "execution_count": null,
      "outputs": []
    },
    {
      "cell_type": "code",
      "source": [
        "colours=['green','yellow' ,'orange','red']\n",
        "plt.bar(xl,yl,align='center',width=5,color=['green','yellow' ,'orange','red'])"
      ],
      "metadata": {
        "id": "qIxPc2VKpQzC"
      },
      "execution_count": null,
      "outputs": []
    },
    {
      "cell_type": "markdown",
      "source": [
        "###following the predicted projection we could conclude an exponential increase in the glass waste in the upcoming decades if any laws against their use arent strictly followed or mandated. but their seems to be another economical advantage conjoined to the fact that glass waste is mostly recyclable ."
      ],
      "metadata": {
        "id": "QAcIlVJ_pVdn"
      }
    },
    {
      "cell_type": "code",
      "source": [
        "from IPython import display\n",
        "display.Image(\"Typical-composition-of-glass-waste-within-MSW-12.png\")"
      ],
      "metadata": {
        "id": "DBo8C8CnpSre"
      },
      "execution_count": null,
      "outputs": []
    },
    {
      "cell_type": "markdown",
      "source": [
        "####above are the percentages of glass in use and the quantity of them constituting the waste part. and there respective cost in Rupees per kg are :"
      ],
      "metadata": {
        "id": "JgA8i6sEpg_e"
      }
    },
    {
      "cell_type": "code",
      "source": [
        "dfc=50*0.75 + 8*0.10+4*0.15\n",
        "dfc # average cost per kg"
      ],
      "metadata": {
        "id": "Fs1WRqJipYIo"
      },
      "execution_count": null,
      "outputs": []
    },
    {
      "cell_type": "markdown",
      "source": [
        "####dfc is the average cost of a kg of glass in india hence to calculate total money generated by glass waste in 2040 we have to have the predicted amount of glass generated in 2040 and multiply it with the cost of per kg of glass waste"
      ],
      "metadata": {
        "id": "khvYeagVps_6"
      }
    },
    {
      "cell_type": "code",
      "source": [
        "value_2040_waste=predict([[2040]])  #In Million metric tonnes\n",
        "value_2040_waste"
      ],
      "metadata": {
        "id": "XZl-V-XWCnCW"
      },
      "execution_count": null,
      "outputs": []
    },
    {
      "cell_type": "code",
      "source": [
        "value_2040_wasteInKG=predict([[2040]])*1000000000 # converting Million metric tonnes to kg\n",
        "per_kg_cost=dfc\n",
        "print(value_2040_wasteInKG)"
      ],
      "metadata": {
        "id": "rGOu8lI7pofO"
      },
      "execution_count": null,
      "outputs": []
    },
    {
      "cell_type": "code",
      "source": [
        "Total_revenue_by_glass_recycling=value_2040_wasteInKG*per_kg_cost\n",
        "print(\"total amount generated by recycling and selling glass according to raw indian market price in Rupees currently in 2021:\")\n",
        "print(Total_revenue_by_glass_recycling)"
      ],
      "metadata": {
        "id": "a-WrA1ZlpvRm"
      },
      "execution_count": null,
      "outputs": []
    },
    {
      "cell_type": "code",
      "source": [
        "from sklearn.metrics import mean_squared_error\n",
        "Y_true = [41.5]\n",
        "Y_pred = [dfc]\n",
        "# Calculation of Mean Squared Error (MSE)\n",
        "mse=mean_squared_error(Y_true,Y_pred)\n",
        "mse"
      ],
      "metadata": {
        "id": "AUPNLueYp59z"
      },
      "execution_count": null,
      "outputs": []
    },
    {
      "cell_type": "markdown",
      "source": [
        "##213,625,833,00,000 Rs of amount is generated by selling all possible recyclable glass waste  as of 08-09-2021 [ the predicted value is for waste in 2040]. "
      ],
      "metadata": {
        "id": "k71k5ZXap_Te"
      }
    }
  ]
}