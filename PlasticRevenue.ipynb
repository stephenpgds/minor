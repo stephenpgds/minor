{
  "nbformat": 4,
  "nbformat_minor": 0,
  "metadata": {
    "colab": {
      "provenance": []
    },
    "kernelspec": {
      "name": "python3",
      "display_name": "Python 3"
    },
    "language_info": {
      "name": "python"
    }
  },
  "cells": [
    {
      "cell_type": "code",
      "execution_count": null,
      "metadata": {
        "id": "Fz7Up27WMIPY"
      },
      "outputs": [],
      "source": [
        "import pandas as pd\n",
        "import numpy as np\n",
        "import matplotlib.pyplot  as plt\n",
        "from sklearn.linear_model import LinearRegression,Ridge,ElasticNet"
      ]
    },
    {
      "cell_type": "code",
      "source": [
        "world=pd.read_csv(\"country_level_data_0.csv\")\n",
        "world"
      ],
      "metadata": {
        "colab": {
          "base_uri": "https://localhost:8080/",
          "height": 488
        },
        "id": "lH7crc6QNKxJ",
        "outputId": "8469324f-a41c-4353-a015-742af0460550"
      },
      "execution_count": null,
      "outputs": [
        {
          "output_type": "execute_result",
          "data": {
            "text/plain": [
              "    iso3c region_id  country_name income_id           gdp  \\\n",
              "0     ABW       LCN         Aruba       HIC           NaN   \n",
              "1     AFG       SAS   Afghanistan       LIC  2.141361e+10   \n",
              "2     AGO       SSF        Angola       LMC  1.030000e+11   \n",
              "3     ALB       ECS       Albania       UMC  1.347108e+10   \n",
              "4     AND       ECS       Andorra       HIC  3.319880e+09   \n",
              "..    ...       ...           ...       ...           ...   \n",
              "212   XKX       ECS        Kosovo       LMC  7.129272e+09   \n",
              "213   YEM       MEA   Yemen, Rep.       LIC  1.192703e+10   \n",
              "214   ZAF       SSF  South Africa       UMC  4.210000e+11   \n",
              "215   ZMB       SSF        Zambia       LMC  2.703717e+10   \n",
              "216   ZWE       SSF      Zimbabwe       LIC  1.481899e+10   \n",
              "\n",
              "     composition_food_organic_waste_percent  composition_glass_percent  \\\n",
              "0                                       NaN                        NaN   \n",
              "1                                       NaN                        NaN   \n",
              "2                                 51.800000                   6.700000   \n",
              "3                                 51.400000                   4.500000   \n",
              "4                                 31.200000                   8.200000   \n",
              "..                                      ...                        ...   \n",
              "212                               42.000000                   6.000000   \n",
              "213                               65.000000                   1.000000   \n",
              "214                               16.381655                   5.200216   \n",
              "215                                     NaN                        NaN   \n",
              "216                               36.000000                   5.000000   \n",
              "\n",
              "     composition_metal_percent  composition_other_percent  \\\n",
              "0                          NaN                        NaN   \n",
              "1                          NaN                        NaN   \n",
              "2                     4.400000                  11.500000   \n",
              "3                     4.800000                  15.210000   \n",
              "4                     2.600000                  11.600000   \n",
              "..                         ...                        ...   \n",
              "212                   6.000000                  20.000000   \n",
              "213                   6.000000                   6.000000   \n",
              "214                  16.910461                  45.020646   \n",
              "215                        NaN                        NaN   \n",
              "216                   6.000000                   3.000000   \n",
              "\n",
              "     composition_paper_cardboard_percent  ...  \\\n",
              "0                                    NaN  ...   \n",
              "1                                    NaN  ...   \n",
              "2                              11.900000  ...   \n",
              "3                               9.900000  ...   \n",
              "4                              35.100000  ...   \n",
              "..                                   ...  ...   \n",
              "212                             8.000000  ...   \n",
              "213                             7.000000  ...   \n",
              "214                             9.396918  ...   \n",
              "215                                  NaN  ...   \n",
              "216                            27.000000  ...   \n",
              "\n",
              "     waste_treatment_controlled_landfill_percent  \\\n",
              "0                                            NaN   \n",
              "1                                            NaN   \n",
              "2                                            NaN   \n",
              "3                                            NaN   \n",
              "4                                            NaN   \n",
              "..                                           ...   \n",
              "212                                        66.43   \n",
              "213                                        12.00   \n",
              "214                                        72.00   \n",
              "215                                          NaN   \n",
              "216                                          NaN   \n",
              "\n",
              "     waste_treatment_incineration_percent  \\\n",
              "0                                     NaN   \n",
              "1                                     NaN   \n",
              "2                                     NaN   \n",
              "3                                     NaN   \n",
              "4                                    52.1   \n",
              "..                                    ...   \n",
              "212                                   NaN   \n",
              "213                                   NaN   \n",
              "214                                   NaN   \n",
              "215                                   NaN   \n",
              "216                                   NaN   \n",
              "\n",
              "     waste_treatment_landfill_unspecified_percent  \\\n",
              "0                                             NaN   \n",
              "1                                             NaN   \n",
              "2                                             NaN   \n",
              "3                                             NaN   \n",
              "4                                             NaN   \n",
              "..                                            ...   \n",
              "212                                           NaN   \n",
              "213                                           NaN   \n",
              "214                                           NaN   \n",
              "215                                           NaN   \n",
              "216                                           NaN   \n",
              "\n",
              "     waste_treatment_open_dump_percent waste_treatment_other_percent  \\\n",
              "0                                  NaN                           NaN   \n",
              "1                                  NaN                           NaN   \n",
              "2                                  NaN                           NaN   \n",
              "3                                  NaN                           NaN   \n",
              "4                                  NaN                           NaN   \n",
              "..                                 ...                           ...   \n",
              "212                              33.57                           NaN   \n",
              "213                              25.00                           NaN   \n",
              "214                                NaN                           NaN   \n",
              "215                                NaN                           NaN   \n",
              "216                                NaN                           NaN   \n",
              "\n",
              "    waste_treatment_recycling_percent  \\\n",
              "0                                11.0   \n",
              "1                                 NaN   \n",
              "2                                 NaN   \n",
              "3                                 NaN   \n",
              "4                                 NaN   \n",
              "..                                ...   \n",
              "212                               NaN   \n",
              "213                               8.0   \n",
              "214                              28.0   \n",
              "215                               NaN   \n",
              "216                              16.0   \n",
              "\n",
              "    waste_treatment_sanitary_landfill_landfill_gas_system_percent  \\\n",
              "0                                                  NaN              \n",
              "1                                                  NaN              \n",
              "2                                                  NaN              \n",
              "3                                                  NaN              \n",
              "4                                                  NaN              \n",
              "..                                                 ...              \n",
              "212                                                NaN              \n",
              "213                                                NaN              \n",
              "214                                                NaN              \n",
              "215                                                NaN              \n",
              "216                                                NaN              \n",
              "\n",
              "    waste_treatment_unaccounted_for_percent  \\\n",
              "0                                      89.0   \n",
              "1                                       NaN   \n",
              "2                                       NaN   \n",
              "3                                       NaN   \n",
              "4                                      47.9   \n",
              "..                                      ...   \n",
              "212                                     NaN   \n",
              "213                                    47.0   \n",
              "214                                     NaN   \n",
              "215                                     NaN   \n",
              "216                                    84.0   \n",
              "\n",
              "    waste_treatment_waterways_marine_percent  \\\n",
              "0                                        NaN   \n",
              "1                                        NaN   \n",
              "2                                        NaN   \n",
              "3                                        NaN   \n",
              "4                                        NaN   \n",
              "..                                       ...   \n",
              "212                                      NaN   \n",
              "213                                      8.0   \n",
              "214                                      NaN   \n",
              "215                                      NaN   \n",
              "216                                      NaN   \n",
              "\n",
              "     where_where_is_this_data_measured  \n",
              "0                                  NaN  \n",
              "1                                Other  \n",
              "2                                  NaN  \n",
              "3                  Some disposal sites  \n",
              "4                                  NaN  \n",
              "..                                 ...  \n",
              "212                                NaN  \n",
              "213                              Other  \n",
              "214                                NaN  \n",
              "215                                NaN  \n",
              "216                                NaN  \n",
              "\n",
              "[217 rows x 51 columns]"
            ],
            "text/html": [
              "\n",
              "  <div id=\"df-fb3d68a6-4ab9-47ff-b64d-913c641216a4\">\n",
              "    <div class=\"colab-df-container\">\n",
              "      <div>\n",
              "<style scoped>\n",
              "    .dataframe tbody tr th:only-of-type {\n",
              "        vertical-align: middle;\n",
              "    }\n",
              "\n",
              "    .dataframe tbody tr th {\n",
              "        vertical-align: top;\n",
              "    }\n",
              "\n",
              "    .dataframe thead th {\n",
              "        text-align: right;\n",
              "    }\n",
              "</style>\n",
              "<table border=\"1\" class=\"dataframe\">\n",
              "  <thead>\n",
              "    <tr style=\"text-align: right;\">\n",
              "      <th></th>\n",
              "      <th>iso3c</th>\n",
              "      <th>region_id</th>\n",
              "      <th>country_name</th>\n",
              "      <th>income_id</th>\n",
              "      <th>gdp</th>\n",
              "      <th>composition_food_organic_waste_percent</th>\n",
              "      <th>composition_glass_percent</th>\n",
              "      <th>composition_metal_percent</th>\n",
              "      <th>composition_other_percent</th>\n",
              "      <th>composition_paper_cardboard_percent</th>\n",
              "      <th>...</th>\n",
              "      <th>waste_treatment_controlled_landfill_percent</th>\n",
              "      <th>waste_treatment_incineration_percent</th>\n",
              "      <th>waste_treatment_landfill_unspecified_percent</th>\n",
              "      <th>waste_treatment_open_dump_percent</th>\n",
              "      <th>waste_treatment_other_percent</th>\n",
              "      <th>waste_treatment_recycling_percent</th>\n",
              "      <th>waste_treatment_sanitary_landfill_landfill_gas_system_percent</th>\n",
              "      <th>waste_treatment_unaccounted_for_percent</th>\n",
              "      <th>waste_treatment_waterways_marine_percent</th>\n",
              "      <th>where_where_is_this_data_measured</th>\n",
              "    </tr>\n",
              "  </thead>\n",
              "  <tbody>\n",
              "    <tr>\n",
              "      <th>0</th>\n",
              "      <td>ABW</td>\n",
              "      <td>LCN</td>\n",
              "      <td>Aruba</td>\n",
              "      <td>HIC</td>\n",
              "      <td>NaN</td>\n",
              "      <td>NaN</td>\n",
              "      <td>NaN</td>\n",
              "      <td>NaN</td>\n",
              "      <td>NaN</td>\n",
              "      <td>NaN</td>\n",
              "      <td>...</td>\n",
              "      <td>NaN</td>\n",
              "      <td>NaN</td>\n",
              "      <td>NaN</td>\n",
              "      <td>NaN</td>\n",
              "      <td>NaN</td>\n",
              "      <td>11.0</td>\n",
              "      <td>NaN</td>\n",
              "      <td>89.0</td>\n",
              "      <td>NaN</td>\n",
              "      <td>NaN</td>\n",
              "    </tr>\n",
              "    <tr>\n",
              "      <th>1</th>\n",
              "      <td>AFG</td>\n",
              "      <td>SAS</td>\n",
              "      <td>Afghanistan</td>\n",
              "      <td>LIC</td>\n",
              "      <td>2.141361e+10</td>\n",
              "      <td>NaN</td>\n",
              "      <td>NaN</td>\n",
              "      <td>NaN</td>\n",
              "      <td>NaN</td>\n",
              "      <td>NaN</td>\n",
              "      <td>...</td>\n",
              "      <td>NaN</td>\n",
              "      <td>NaN</td>\n",
              "      <td>NaN</td>\n",
              "      <td>NaN</td>\n",
              "      <td>NaN</td>\n",
              "      <td>NaN</td>\n",
              "      <td>NaN</td>\n",
              "      <td>NaN</td>\n",
              "      <td>NaN</td>\n",
              "      <td>Other</td>\n",
              "    </tr>\n",
              "    <tr>\n",
              "      <th>2</th>\n",
              "      <td>AGO</td>\n",
              "      <td>SSF</td>\n",
              "      <td>Angola</td>\n",
              "      <td>LMC</td>\n",
              "      <td>1.030000e+11</td>\n",
              "      <td>51.800000</td>\n",
              "      <td>6.700000</td>\n",
              "      <td>4.400000</td>\n",
              "      <td>11.500000</td>\n",
              "      <td>11.900000</td>\n",
              "      <td>...</td>\n",
              "      <td>NaN</td>\n",
              "      <td>NaN</td>\n",
              "      <td>NaN</td>\n",
              "      <td>NaN</td>\n",
              "      <td>NaN</td>\n",
              "      <td>NaN</td>\n",
              "      <td>NaN</td>\n",
              "      <td>NaN</td>\n",
              "      <td>NaN</td>\n",
              "      <td>NaN</td>\n",
              "    </tr>\n",
              "    <tr>\n",
              "      <th>3</th>\n",
              "      <td>ALB</td>\n",
              "      <td>ECS</td>\n",
              "      <td>Albania</td>\n",
              "      <td>UMC</td>\n",
              "      <td>1.347108e+10</td>\n",
              "      <td>51.400000</td>\n",
              "      <td>4.500000</td>\n",
              "      <td>4.800000</td>\n",
              "      <td>15.210000</td>\n",
              "      <td>9.900000</td>\n",
              "      <td>...</td>\n",
              "      <td>NaN</td>\n",
              "      <td>NaN</td>\n",
              "      <td>NaN</td>\n",
              "      <td>NaN</td>\n",
              "      <td>NaN</td>\n",
              "      <td>NaN</td>\n",
              "      <td>NaN</td>\n",
              "      <td>NaN</td>\n",
              "      <td>NaN</td>\n",
              "      <td>Some disposal sites</td>\n",
              "    </tr>\n",
              "    <tr>\n",
              "      <th>4</th>\n",
              "      <td>AND</td>\n",
              "      <td>ECS</td>\n",
              "      <td>Andorra</td>\n",
              "      <td>HIC</td>\n",
              "      <td>3.319880e+09</td>\n",
              "      <td>31.200000</td>\n",
              "      <td>8.200000</td>\n",
              "      <td>2.600000</td>\n",
              "      <td>11.600000</td>\n",
              "      <td>35.100000</td>\n",
              "      <td>...</td>\n",
              "      <td>NaN</td>\n",
              "      <td>52.1</td>\n",
              "      <td>NaN</td>\n",
              "      <td>NaN</td>\n",
              "      <td>NaN</td>\n",
              "      <td>NaN</td>\n",
              "      <td>NaN</td>\n",
              "      <td>47.9</td>\n",
              "      <td>NaN</td>\n",
              "      <td>NaN</td>\n",
              "    </tr>\n",
              "    <tr>\n",
              "      <th>...</th>\n",
              "      <td>...</td>\n",
              "      <td>...</td>\n",
              "      <td>...</td>\n",
              "      <td>...</td>\n",
              "      <td>...</td>\n",
              "      <td>...</td>\n",
              "      <td>...</td>\n",
              "      <td>...</td>\n",
              "      <td>...</td>\n",
              "      <td>...</td>\n",
              "      <td>...</td>\n",
              "      <td>...</td>\n",
              "      <td>...</td>\n",
              "      <td>...</td>\n",
              "      <td>...</td>\n",
              "      <td>...</td>\n",
              "      <td>...</td>\n",
              "      <td>...</td>\n",
              "      <td>...</td>\n",
              "      <td>...</td>\n",
              "      <td>...</td>\n",
              "    </tr>\n",
              "    <tr>\n",
              "      <th>212</th>\n",
              "      <td>XKX</td>\n",
              "      <td>ECS</td>\n",
              "      <td>Kosovo</td>\n",
              "      <td>LMC</td>\n",
              "      <td>7.129272e+09</td>\n",
              "      <td>42.000000</td>\n",
              "      <td>6.000000</td>\n",
              "      <td>6.000000</td>\n",
              "      <td>20.000000</td>\n",
              "      <td>8.000000</td>\n",
              "      <td>...</td>\n",
              "      <td>66.43</td>\n",
              "      <td>NaN</td>\n",
              "      <td>NaN</td>\n",
              "      <td>33.57</td>\n",
              "      <td>NaN</td>\n",
              "      <td>NaN</td>\n",
              "      <td>NaN</td>\n",
              "      <td>NaN</td>\n",
              "      <td>NaN</td>\n",
              "      <td>NaN</td>\n",
              "    </tr>\n",
              "    <tr>\n",
              "      <th>213</th>\n",
              "      <td>YEM</td>\n",
              "      <td>MEA</td>\n",
              "      <td>Yemen, Rep.</td>\n",
              "      <td>LIC</td>\n",
              "      <td>1.192703e+10</td>\n",
              "      <td>65.000000</td>\n",
              "      <td>1.000000</td>\n",
              "      <td>6.000000</td>\n",
              "      <td>6.000000</td>\n",
              "      <td>7.000000</td>\n",
              "      <td>...</td>\n",
              "      <td>12.00</td>\n",
              "      <td>NaN</td>\n",
              "      <td>NaN</td>\n",
              "      <td>25.00</td>\n",
              "      <td>NaN</td>\n",
              "      <td>8.0</td>\n",
              "      <td>NaN</td>\n",
              "      <td>47.0</td>\n",
              "      <td>8.0</td>\n",
              "      <td>Other</td>\n",
              "    </tr>\n",
              "    <tr>\n",
              "      <th>214</th>\n",
              "      <td>ZAF</td>\n",
              "      <td>SSF</td>\n",
              "      <td>South Africa</td>\n",
              "      <td>UMC</td>\n",
              "      <td>4.210000e+11</td>\n",
              "      <td>16.381655</td>\n",
              "      <td>5.200216</td>\n",
              "      <td>16.910461</td>\n",
              "      <td>45.020646</td>\n",
              "      <td>9.396918</td>\n",
              "      <td>...</td>\n",
              "      <td>72.00</td>\n",
              "      <td>NaN</td>\n",
              "      <td>NaN</td>\n",
              "      <td>NaN</td>\n",
              "      <td>NaN</td>\n",
              "      <td>28.0</td>\n",
              "      <td>NaN</td>\n",
              "      <td>NaN</td>\n",
              "      <td>NaN</td>\n",
              "      <td>NaN</td>\n",
              "    </tr>\n",
              "    <tr>\n",
              "      <th>215</th>\n",
              "      <td>ZMB</td>\n",
              "      <td>SSF</td>\n",
              "      <td>Zambia</td>\n",
              "      <td>LMC</td>\n",
              "      <td>2.703717e+10</td>\n",
              "      <td>NaN</td>\n",
              "      <td>NaN</td>\n",
              "      <td>NaN</td>\n",
              "      <td>NaN</td>\n",
              "      <td>NaN</td>\n",
              "      <td>...</td>\n",
              "      <td>NaN</td>\n",
              "      <td>NaN</td>\n",
              "      <td>NaN</td>\n",
              "      <td>NaN</td>\n",
              "      <td>NaN</td>\n",
              "      <td>NaN</td>\n",
              "      <td>NaN</td>\n",
              "      <td>NaN</td>\n",
              "      <td>NaN</td>\n",
              "      <td>NaN</td>\n",
              "    </tr>\n",
              "    <tr>\n",
              "      <th>216</th>\n",
              "      <td>ZWE</td>\n",
              "      <td>SSF</td>\n",
              "      <td>Zimbabwe</td>\n",
              "      <td>LIC</td>\n",
              "      <td>1.481899e+10</td>\n",
              "      <td>36.000000</td>\n",
              "      <td>5.000000</td>\n",
              "      <td>6.000000</td>\n",
              "      <td>3.000000</td>\n",
              "      <td>27.000000</td>\n",
              "      <td>...</td>\n",
              "      <td>NaN</td>\n",
              "      <td>NaN</td>\n",
              "      <td>NaN</td>\n",
              "      <td>NaN</td>\n",
              "      <td>NaN</td>\n",
              "      <td>16.0</td>\n",
              "      <td>NaN</td>\n",
              "      <td>84.0</td>\n",
              "      <td>NaN</td>\n",
              "      <td>NaN</td>\n",
              "    </tr>\n",
              "  </tbody>\n",
              "</table>\n",
              "<p>217 rows × 51 columns</p>\n",
              "</div>\n",
              "      <button class=\"colab-df-convert\" onclick=\"convertToInteractive('df-fb3d68a6-4ab9-47ff-b64d-913c641216a4')\"\n",
              "              title=\"Convert this dataframe to an interactive table.\"\n",
              "              style=\"display:none;\">\n",
              "        \n",
              "  <svg xmlns=\"http://www.w3.org/2000/svg\" height=\"24px\"viewBox=\"0 0 24 24\"\n",
              "       width=\"24px\">\n",
              "    <path d=\"M0 0h24v24H0V0z\" fill=\"none\"/>\n",
              "    <path d=\"M18.56 5.44l.94 2.06.94-2.06 2.06-.94-2.06-.94-.94-2.06-.94 2.06-2.06.94zm-11 1L8.5 8.5l.94-2.06 2.06-.94-2.06-.94L8.5 2.5l-.94 2.06-2.06.94zm10 10l.94 2.06.94-2.06 2.06-.94-2.06-.94-.94-2.06-.94 2.06-2.06.94z\"/><path d=\"M17.41 7.96l-1.37-1.37c-.4-.4-.92-.59-1.43-.59-.52 0-1.04.2-1.43.59L10.3 9.45l-7.72 7.72c-.78.78-.78 2.05 0 2.83L4 21.41c.39.39.9.59 1.41.59.51 0 1.02-.2 1.41-.59l7.78-7.78 2.81-2.81c.8-.78.8-2.07 0-2.86zM5.41 20L4 18.59l7.72-7.72 1.47 1.35L5.41 20z\"/>\n",
              "  </svg>\n",
              "      </button>\n",
              "      \n",
              "  <style>\n",
              "    .colab-df-container {\n",
              "      display:flex;\n",
              "      flex-wrap:wrap;\n",
              "      gap: 12px;\n",
              "    }\n",
              "\n",
              "    .colab-df-convert {\n",
              "      background-color: #E8F0FE;\n",
              "      border: none;\n",
              "      border-radius: 50%;\n",
              "      cursor: pointer;\n",
              "      display: none;\n",
              "      fill: #1967D2;\n",
              "      height: 32px;\n",
              "      padding: 0 0 0 0;\n",
              "      width: 32px;\n",
              "    }\n",
              "\n",
              "    .colab-df-convert:hover {\n",
              "      background-color: #E2EBFA;\n",
              "      box-shadow: 0px 1px 2px rgba(60, 64, 67, 0.3), 0px 1px 3px 1px rgba(60, 64, 67, 0.15);\n",
              "      fill: #174EA6;\n",
              "    }\n",
              "\n",
              "    [theme=dark] .colab-df-convert {\n",
              "      background-color: #3B4455;\n",
              "      fill: #D2E3FC;\n",
              "    }\n",
              "\n",
              "    [theme=dark] .colab-df-convert:hover {\n",
              "      background-color: #434B5C;\n",
              "      box-shadow: 0px 1px 3px 1px rgba(0, 0, 0, 0.15);\n",
              "      filter: drop-shadow(0px 1px 2px rgba(0, 0, 0, 0.3));\n",
              "      fill: #FFFFFF;\n",
              "    }\n",
              "  </style>\n",
              "\n",
              "      <script>\n",
              "        const buttonEl =\n",
              "          document.querySelector('#df-fb3d68a6-4ab9-47ff-b64d-913c641216a4 button.colab-df-convert');\n",
              "        buttonEl.style.display =\n",
              "          google.colab.kernel.accessAllowed ? 'block' : 'none';\n",
              "\n",
              "        async function convertToInteractive(key) {\n",
              "          const element = document.querySelector('#df-fb3d68a6-4ab9-47ff-b64d-913c641216a4');\n",
              "          const dataTable =\n",
              "            await google.colab.kernel.invokeFunction('convertToInteractive',\n",
              "                                                     [key], {});\n",
              "          if (!dataTable) return;\n",
              "\n",
              "          const docLinkHtml = 'Like what you see? Visit the ' +\n",
              "            '<a target=\"_blank\" href=https://colab.research.google.com/notebooks/data_table.ipynb>data table notebook</a>'\n",
              "            + ' to learn more about interactive tables.';\n",
              "          element.innerHTML = '';\n",
              "          dataTable['output_type'] = 'display_data';\n",
              "          await google.colab.output.renderOutput(dataTable, element);\n",
              "          const docLink = document.createElement('div');\n",
              "          docLink.innerHTML = docLinkHtml;\n",
              "          element.appendChild(docLink);\n",
              "        }\n",
              "      </script>\n",
              "    </div>\n",
              "  </div>\n",
              "  "
            ]
          },
          "metadata": {},
          "execution_count": 28
        }
      ]
    },
    {
      "cell_type": "code",
      "source": [
        "world.columns"
      ],
      "metadata": {
        "colab": {
          "base_uri": "https://localhost:8080/"
        },
        "id": "VdHzDHMATcQt",
        "outputId": "daa280ce-bea2-49ca-85c4-878f6925a7ae"
      },
      "execution_count": null,
      "outputs": [
        {
          "output_type": "execute_result",
          "data": {
            "text/plain": [
              "Index(['iso3c', 'region_id', 'country_name', 'income_id', 'gdp',\n",
              "       'composition_food_organic_waste_percent', 'composition_glass_percent',\n",
              "       'composition_metal_percent', 'composition_other_percent',\n",
              "       'composition_paper_cardboard_percent', 'composition_plastic_percent',\n",
              "       'composition_rubber_leather_percent', 'composition_wood_percent',\n",
              "       'composition_yard_garden_green_waste_percent',\n",
              "       'other_information_information_system_for_solid_waste_management',\n",
              "       'other_information_national_agency_to_enforce_solid_waste_laws_and_regulations',\n",
              "       'other_information_national_law_governing_solid_waste_management_in_the_country',\n",
              "       'other_information_ppp_rules_and_regulations',\n",
              "       'other_information_summary_of_key_solid_waste_information_made_available_to_the_public',\n",
              "       'population_population_number_of_people',\n",
              "       'special_waste_agricultural_waste_tons_year',\n",
              "       'special_waste_construction_and_demolition_waste_tons_year',\n",
              "       'special_waste_e_waste_tons_year',\n",
              "       'special_waste_hazardous_waste_tons_year',\n",
              "       'special_waste_industrial_waste_tons_year',\n",
              "       'special_waste_medical_waste_tons_year',\n",
              "       'total_msw_total_msw_generated_tons_year',\n",
              "       'waste_collection_coverage_rural_percent_of_geographic_area',\n",
              "       'waste_collection_coverage_rural_percent_of_households',\n",
              "       'waste_collection_coverage_rural_percent_of_population',\n",
              "       'waste_collection_coverage_rural_percent_of_waste',\n",
              "       'waste_collection_coverage_total_percent_of_geographic_area',\n",
              "       'waste_collection_coverage_total_percent_of_households',\n",
              "       'waste_collection_coverage_total_percent_of_population',\n",
              "       'waste_collection_coverage_total_percent_of_waste',\n",
              "       'waste_collection_coverage_urban_percent_of_geographic_area',\n",
              "       'waste_collection_coverage_urban_percent_of_households',\n",
              "       'waste_collection_coverage_urban_percent_of_population',\n",
              "       'waste_collection_coverage_urban_percent_of_waste',\n",
              "       'waste_treatment_anaerobic_digestion_percent',\n",
              "       'waste_treatment_compost_percent',\n",
              "       'waste_treatment_controlled_landfill_percent',\n",
              "       'waste_treatment_incineration_percent',\n",
              "       'waste_treatment_landfill_unspecified_percent',\n",
              "       'waste_treatment_open_dump_percent', 'waste_treatment_other_percent',\n",
              "       'waste_treatment_recycling_percent',\n",
              "       'waste_treatment_sanitary_landfill_landfill_gas_system_percent',\n",
              "       'waste_treatment_unaccounted_for_percent',\n",
              "       'waste_treatment_waterways_marine_percent',\n",
              "       'where_where_is_this_data_measured'],\n",
              "      dtype='object')"
            ]
          },
          "metadata": {},
          "execution_count": 29
        }
      ]
    },
    {
      "cell_type": "code",
      "source": [
        "part=pd.DataFrame(list(world.iloc[:,[2,10]].values))\n",
        "part"
      ],
      "metadata": {
        "colab": {
          "base_uri": "https://localhost:8080/",
          "height": 424
        },
        "id": "aP9STrQkThSf",
        "outputId": "52d05f61-93c5-49d4-d6f1-75c7b4cf7e72"
      },
      "execution_count": null,
      "outputs": [
        {
          "output_type": "execute_result",
          "data": {
            "text/plain": [
              "                0          1\n",
              "0           Aruba        NaN\n",
              "1     Afghanistan        NaN\n",
              "2          Angola  13.500000\n",
              "3         Albania   9.600000\n",
              "4         Andorra  11.300000\n",
              "..            ...        ...\n",
              "212        Kosovo  11.000000\n",
              "213   Yemen, Rep.  10.000000\n",
              "214  South Africa   7.090104\n",
              "215        Zambia        NaN\n",
              "216      Zimbabwe  23.000000\n",
              "\n",
              "[217 rows x 2 columns]"
            ],
            "text/html": [
              "\n",
              "  <div id=\"df-ad696f99-2641-420c-8bf2-4413c6371393\">\n",
              "    <div class=\"colab-df-container\">\n",
              "      <div>\n",
              "<style scoped>\n",
              "    .dataframe tbody tr th:only-of-type {\n",
              "        vertical-align: middle;\n",
              "    }\n",
              "\n",
              "    .dataframe tbody tr th {\n",
              "        vertical-align: top;\n",
              "    }\n",
              "\n",
              "    .dataframe thead th {\n",
              "        text-align: right;\n",
              "    }\n",
              "</style>\n",
              "<table border=\"1\" class=\"dataframe\">\n",
              "  <thead>\n",
              "    <tr style=\"text-align: right;\">\n",
              "      <th></th>\n",
              "      <th>0</th>\n",
              "      <th>1</th>\n",
              "    </tr>\n",
              "  </thead>\n",
              "  <tbody>\n",
              "    <tr>\n",
              "      <th>0</th>\n",
              "      <td>Aruba</td>\n",
              "      <td>NaN</td>\n",
              "    </tr>\n",
              "    <tr>\n",
              "      <th>1</th>\n",
              "      <td>Afghanistan</td>\n",
              "      <td>NaN</td>\n",
              "    </tr>\n",
              "    <tr>\n",
              "      <th>2</th>\n",
              "      <td>Angola</td>\n",
              "      <td>13.500000</td>\n",
              "    </tr>\n",
              "    <tr>\n",
              "      <th>3</th>\n",
              "      <td>Albania</td>\n",
              "      <td>9.600000</td>\n",
              "    </tr>\n",
              "    <tr>\n",
              "      <th>4</th>\n",
              "      <td>Andorra</td>\n",
              "      <td>11.300000</td>\n",
              "    </tr>\n",
              "    <tr>\n",
              "      <th>...</th>\n",
              "      <td>...</td>\n",
              "      <td>...</td>\n",
              "    </tr>\n",
              "    <tr>\n",
              "      <th>212</th>\n",
              "      <td>Kosovo</td>\n",
              "      <td>11.000000</td>\n",
              "    </tr>\n",
              "    <tr>\n",
              "      <th>213</th>\n",
              "      <td>Yemen, Rep.</td>\n",
              "      <td>10.000000</td>\n",
              "    </tr>\n",
              "    <tr>\n",
              "      <th>214</th>\n",
              "      <td>South Africa</td>\n",
              "      <td>7.090104</td>\n",
              "    </tr>\n",
              "    <tr>\n",
              "      <th>215</th>\n",
              "      <td>Zambia</td>\n",
              "      <td>NaN</td>\n",
              "    </tr>\n",
              "    <tr>\n",
              "      <th>216</th>\n",
              "      <td>Zimbabwe</td>\n",
              "      <td>23.000000</td>\n",
              "    </tr>\n",
              "  </tbody>\n",
              "</table>\n",
              "<p>217 rows × 2 columns</p>\n",
              "</div>\n",
              "      <button class=\"colab-df-convert\" onclick=\"convertToInteractive('df-ad696f99-2641-420c-8bf2-4413c6371393')\"\n",
              "              title=\"Convert this dataframe to an interactive table.\"\n",
              "              style=\"display:none;\">\n",
              "        \n",
              "  <svg xmlns=\"http://www.w3.org/2000/svg\" height=\"24px\"viewBox=\"0 0 24 24\"\n",
              "       width=\"24px\">\n",
              "    <path d=\"M0 0h24v24H0V0z\" fill=\"none\"/>\n",
              "    <path d=\"M18.56 5.44l.94 2.06.94-2.06 2.06-.94-2.06-.94-.94-2.06-.94 2.06-2.06.94zm-11 1L8.5 8.5l.94-2.06 2.06-.94-2.06-.94L8.5 2.5l-.94 2.06-2.06.94zm10 10l.94 2.06.94-2.06 2.06-.94-2.06-.94-.94-2.06-.94 2.06-2.06.94z\"/><path d=\"M17.41 7.96l-1.37-1.37c-.4-.4-.92-.59-1.43-.59-.52 0-1.04.2-1.43.59L10.3 9.45l-7.72 7.72c-.78.78-.78 2.05 0 2.83L4 21.41c.39.39.9.59 1.41.59.51 0 1.02-.2 1.41-.59l7.78-7.78 2.81-2.81c.8-.78.8-2.07 0-2.86zM5.41 20L4 18.59l7.72-7.72 1.47 1.35L5.41 20z\"/>\n",
              "  </svg>\n",
              "      </button>\n",
              "      \n",
              "  <style>\n",
              "    .colab-df-container {\n",
              "      display:flex;\n",
              "      flex-wrap:wrap;\n",
              "      gap: 12px;\n",
              "    }\n",
              "\n",
              "    .colab-df-convert {\n",
              "      background-color: #E8F0FE;\n",
              "      border: none;\n",
              "      border-radius: 50%;\n",
              "      cursor: pointer;\n",
              "      display: none;\n",
              "      fill: #1967D2;\n",
              "      height: 32px;\n",
              "      padding: 0 0 0 0;\n",
              "      width: 32px;\n",
              "    }\n",
              "\n",
              "    .colab-df-convert:hover {\n",
              "      background-color: #E2EBFA;\n",
              "      box-shadow: 0px 1px 2px rgba(60, 64, 67, 0.3), 0px 1px 3px 1px rgba(60, 64, 67, 0.15);\n",
              "      fill: #174EA6;\n",
              "    }\n",
              "\n",
              "    [theme=dark] .colab-df-convert {\n",
              "      background-color: #3B4455;\n",
              "      fill: #D2E3FC;\n",
              "    }\n",
              "\n",
              "    [theme=dark] .colab-df-convert:hover {\n",
              "      background-color: #434B5C;\n",
              "      box-shadow: 0px 1px 3px 1px rgba(0, 0, 0, 0.15);\n",
              "      filter: drop-shadow(0px 1px 2px rgba(0, 0, 0, 0.3));\n",
              "      fill: #FFFFFF;\n",
              "    }\n",
              "  </style>\n",
              "\n",
              "      <script>\n",
              "        const buttonEl =\n",
              "          document.querySelector('#df-ad696f99-2641-420c-8bf2-4413c6371393 button.colab-df-convert');\n",
              "        buttonEl.style.display =\n",
              "          google.colab.kernel.accessAllowed ? 'block' : 'none';\n",
              "\n",
              "        async function convertToInteractive(key) {\n",
              "          const element = document.querySelector('#df-ad696f99-2641-420c-8bf2-4413c6371393');\n",
              "          const dataTable =\n",
              "            await google.colab.kernel.invokeFunction('convertToInteractive',\n",
              "                                                     [key], {});\n",
              "          if (!dataTable) return;\n",
              "\n",
              "          const docLinkHtml = 'Like what you see? Visit the ' +\n",
              "            '<a target=\"_blank\" href=https://colab.research.google.com/notebooks/data_table.ipynb>data table notebook</a>'\n",
              "            + ' to learn more about interactive tables.';\n",
              "          element.innerHTML = '';\n",
              "          dataTable['output_type'] = 'display_data';\n",
              "          await google.colab.output.renderOutput(dataTable, element);\n",
              "          const docLink = document.createElement('div');\n",
              "          docLink.innerHTML = docLinkHtml;\n",
              "          element.appendChild(docLink);\n",
              "        }\n",
              "      </script>\n",
              "    </div>\n",
              "  </div>\n",
              "  "
            ]
          },
          "metadata": {},
          "execution_count": 4
        }
      ]
    },
    {
      "cell_type": "code",
      "source": [
        "mean1=part.mean()\n",
        "mean1"
      ],
      "metadata": {
        "colab": {
          "base_uri": "https://localhost:8080/"
        },
        "id": "TW1fQLCbTlXM",
        "outputId": "228461de-617c-4117-974d-bf2b0b87dbb0"
      },
      "execution_count": null,
      "outputs": [
        {
          "output_type": "stream",
          "name": "stderr",
          "text": [
            "/usr/local/lib/python3.7/dist-packages/ipykernel_launcher.py:1: FutureWarning: Dropping of nuisance columns in DataFrame reductions (with 'numeric_only=None') is deprecated; in a future version this will raise TypeError.  Select only valid columns before calling the reduction.\n",
            "  \"\"\"Entry point for launching an IPython kernel.\n"
          ]
        },
        {
          "output_type": "execute_result",
          "data": {
            "text/plain": [
              "1    11.687394\n",
              "dtype: float64"
            ]
          },
          "metadata": {},
          "execution_count": 5
        }
      ]
    },
    {
      "cell_type": "markdown",
      "source": [
        "####the average percent of plastic present in the total amount of waste considering data of 174 countries we get that about 11.68% of the total waste is plastic which has great potential to produce loop revenues as plastic recycling could be done more than 1 time so even if depreciating in value and ignoring environmental effects we could say that money generated by utilising the plastic waste could be a great factor on world economy ."
      ],
      "metadata": {
        "id": "oGjLLb5obIB0"
      }
    },
    {
      "cell_type": "code",
      "source": [
        "file2=pd.read_csv(\"/content/plastic_waste world data.csv\")\n",
        "from IPython import display\n",
        "display.Image(\"/content/Plastic_Production_Geyer_et_al_K_Law_Presentation.png\")"
      ],
      "metadata": {
        "colab": {
          "base_uri": "https://localhost:8080/",
          "height": 370
        },
        "id": "ZVqYx0osToSk",
        "outputId": "3da11559-ab88-470d-dcc1-7a4c35876cef"
      },
      "execution_count": null,
      "outputs": [
        {
          "output_type": "execute_result",
          "data": {
            "image/png": "[encoded data removed]",
            "text/plain": [
              "<IPython.core.display.Image object>"
            ]
          },
          "metadata": {},
          "execution_count": 26
        }
      ]
    },
    {
      "cell_type": "code",
      "source": [
        "file2"
      ],
      "metadata": {
        "colab": {
          "base_uri": "https://localhost:8080/",
          "height": 269
        },
        "id": "l7daLzQcUBWU",
        "outputId": "8187f3e0-a4d1-478c-df92-2b55ec95cec4"
      },
      "execution_count": null,
      "outputs": [
        {
          "output_type": "execute_result",
          "data": {
            "text/plain": [
              "     Year  MMT(plastic waste)\n",
              "0  1950.0                 0.0\n",
              "1  1960.0                10.0\n",
              "2  1970.0                25.0\n",
              "3  1980.0                50.0\n",
              "4  1990.0                90.0\n",
              "5  2000.0               160.0\n",
              "6  2010.0               275.0"
            ],
            "text/html": [
              "\n",
              "  <div id=\"df-f7aaec24-83ba-47a2-a017-9c7c3d50a68e\">\n",
              "    <div class=\"colab-df-container\">\n",
              "      <div>\n",
              "<style scoped>\n",
              "    .dataframe tbody tr th:only-of-type {\n",
              "        vertical-align: middle;\n",
              "    }\n",
              "\n",
              "    .dataframe tbody tr th {\n",
              "        vertical-align: top;\n",
              "    }\n",
              "\n",
              "    .dataframe thead th {\n",
              "        text-align: right;\n",
              "    }\n",
              "</style>\n",
              "<table border=\"1\" class=\"dataframe\">\n",
              "  <thead>\n",
              "    <tr style=\"text-align: right;\">\n",
              "      <th></th>\n",
              "      <th>Year</th>\n",
              "      <th>MMT(plastic waste)</th>\n",
              "    </tr>\n",
              "  </thead>\n",
              "  <tbody>\n",
              "    <tr>\n",
              "      <th>0</th>\n",
              "      <td>1950.0</td>\n",
              "      <td>0.0</td>\n",
              "    </tr>\n",
              "    <tr>\n",
              "      <th>1</th>\n",
              "      <td>1960.0</td>\n",
              "      <td>10.0</td>\n",
              "    </tr>\n",
              "    <tr>\n",
              "      <th>2</th>\n",
              "      <td>1970.0</td>\n",
              "      <td>25.0</td>\n",
              "    </tr>\n",
              "    <tr>\n",
              "      <th>3</th>\n",
              "      <td>1980.0</td>\n",
              "      <td>50.0</td>\n",
              "    </tr>\n",
              "    <tr>\n",
              "      <th>4</th>\n",
              "      <td>1990.0</td>\n",
              "      <td>90.0</td>\n",
              "    </tr>\n",
              "    <tr>\n",
              "      <th>5</th>\n",
              "      <td>2000.0</td>\n",
              "      <td>160.0</td>\n",
              "    </tr>\n",
              "    <tr>\n",
              "      <th>6</th>\n",
              "      <td>2010.0</td>\n",
              "      <td>275.0</td>\n",
              "    </tr>\n",
              "  </tbody>\n",
              "</table>\n",
              "</div>\n",
              "      <button class=\"colab-df-convert\" onclick=\"convertToInteractive('df-f7aaec24-83ba-47a2-a017-9c7c3d50a68e')\"\n",
              "              title=\"Convert this dataframe to an interactive table.\"\n",
              "              style=\"display:none;\">\n",
              "        \n",
              "  <svg xmlns=\"http://www.w3.org/2000/svg\" height=\"24px\"viewBox=\"0 0 24 24\"\n",
              "       width=\"24px\">\n",
              "    <path d=\"M0 0h24v24H0V0z\" fill=\"none\"/>\n",
              "    <path d=\"M18.56 5.44l.94 2.06.94-2.06 2.06-.94-2.06-.94-.94-2.06-.94 2.06-2.06.94zm-11 1L8.5 8.5l.94-2.06 2.06-.94-2.06-.94L8.5 2.5l-.94 2.06-2.06.94zm10 10l.94 2.06.94-2.06 2.06-.94-2.06-.94-.94-2.06-.94 2.06-2.06.94z\"/><path d=\"M17.41 7.96l-1.37-1.37c-.4-.4-.92-.59-1.43-.59-.52 0-1.04.2-1.43.59L10.3 9.45l-7.72 7.72c-.78.78-.78 2.05 0 2.83L4 21.41c.39.39.9.59 1.41.59.51 0 1.02-.2 1.41-.59l7.78-7.78 2.81-2.81c.8-.78.8-2.07 0-2.86zM5.41 20L4 18.59l7.72-7.72 1.47 1.35L5.41 20z\"/>\n",
              "  </svg>\n",
              "      </button>\n",
              "      \n",
              "  <style>\n",
              "    .colab-df-container {\n",
              "      display:flex;\n",
              "      flex-wrap:wrap;\n",
              "      gap: 12px;\n",
              "    }\n",
              "\n",
              "    .colab-df-convert {\n",
              "      background-color: #E8F0FE;\n",
              "      border: none;\n",
              "      border-radius: 50%;\n",
              "      cursor: pointer;\n",
              "      display: none;\n",
              "      fill: #1967D2;\n",
              "      height: 32px;\n",
              "      padding: 0 0 0 0;\n",
              "      width: 32px;\n",
              "    }\n",
              "\n",
              "    .colab-df-convert:hover {\n",
              "      background-color: #E2EBFA;\n",
              "      box-shadow: 0px 1px 2px rgba(60, 64, 67, 0.3), 0px 1px 3px 1px rgba(60, 64, 67, 0.15);\n",
              "      fill: #174EA6;\n",
              "    }\n",
              "\n",
              "    [theme=dark] .colab-df-convert {\n",
              "      background-color: #3B4455;\n",
              "      fill: #D2E3FC;\n",
              "    }\n",
              "\n",
              "    [theme=dark] .colab-df-convert:hover {\n",
              "      background-color: #434B5C;\n",
              "      box-shadow: 0px 1px 3px 1px rgba(0, 0, 0, 0.15);\n",
              "      filter: drop-shadow(0px 1px 2px rgba(0, 0, 0, 0.3));\n",
              "      fill: #FFFFFF;\n",
              "    }\n",
              "  </style>\n",
              "\n",
              "      <script>\n",
              "        const buttonEl =\n",
              "          document.querySelector('#df-f7aaec24-83ba-47a2-a017-9c7c3d50a68e button.colab-df-convert');\n",
              "        buttonEl.style.display =\n",
              "          google.colab.kernel.accessAllowed ? 'block' : 'none';\n",
              "\n",
              "        async function convertToInteractive(key) {\n",
              "          const element = document.querySelector('#df-f7aaec24-83ba-47a2-a017-9c7c3d50a68e');\n",
              "          const dataTable =\n",
              "            await google.colab.kernel.invokeFunction('convertToInteractive',\n",
              "                                                     [key], {});\n",
              "          if (!dataTable) return;\n",
              "\n",
              "          const docLinkHtml = 'Like what you see? Visit the ' +\n",
              "            '<a target=\"_blank\" href=https://colab.research.google.com/notebooks/data_table.ipynb>data table notebook</a>'\n",
              "            + ' to learn more about interactive tables.';\n",
              "          element.innerHTML = '';\n",
              "          dataTable['output_type'] = 'display_data';\n",
              "          await google.colab.output.renderOutput(dataTable, element);\n",
              "          const docLink = document.createElement('div');\n",
              "          docLink.innerHTML = docLinkHtml;\n",
              "          element.appendChild(docLink);\n",
              "        }\n",
              "      </script>\n",
              "    </div>\n",
              "  </div>\n",
              "  "
            ]
          },
          "metadata": {},
          "execution_count": 7
        }
      ]
    },
    {
      "cell_type": "code",
      "source": [
        "Lin=LinearRegression()\n",
        "Rig=Ridge()\n",
        "eln=ElasticNet()"
      ],
      "metadata": {
        "id": "mQoFr37EXc1X"
      },
      "execution_count": null,
      "outputs": []
    },
    {
      "cell_type": "code",
      "source": [
        "x=file2.iloc[:,0].values\n",
        "x\n",
        "xl=list(x)\n",
        "xl"
      ],
      "metadata": {
        "colab": {
          "base_uri": "https://localhost:8080/"
        },
        "id": "dCmmtRyFXhfX",
        "outputId": "f132f1a8-952d-47b2-a8dc-68dd4a290493"
      },
      "execution_count": null,
      "outputs": [
        {
          "output_type": "execute_result",
          "data": {
            "text/plain": [
              "[1950.0, 1960.0, 1970.0, 1980.0, 1990.0, 2000.0, 2010.0]"
            ]
          },
          "metadata": {},
          "execution_count": 9
        }
      ]
    },
    {
      "cell_type": "code",
      "source": [
        "y=file2.iloc[:,1].values\n",
        "yl=list(y)\n",
        "yl"
      ],
      "metadata": {
        "colab": {
          "base_uri": "https://localhost:8080/"
        },
        "id": "9H02wIfIXlQr",
        "outputId": "ad49e1d4-2461-4172-8c70-a657bbacf97a"
      },
      "execution_count": null,
      "outputs": [
        {
          "output_type": "execute_result",
          "data": {
            "text/plain": [
              "[0.0, 10.0, 25.0, 50.0, 90.0, 160.0, 275.0]"
            ]
          },
          "metadata": {},
          "execution_count": 10
        }
      ]
    },
    {
      "cell_type": "code",
      "source": [
        "plt.bar(list(x),list(y),color='black',width=4)\n",
        "plt.xlabel('Year')\n",
        "plt.ylabel('million metric tonnes of plastic waste')"
      ],
      "metadata": {
        "colab": {
          "base_uri": "https://localhost:8080/",
          "height": 296
        },
        "id": "KQtp18fTXo2t",
        "outputId": "6690fce8-809d-4272-df1c-0eda645e4ec3"
      },
      "execution_count": null,
      "outputs": [
        {
          "output_type": "execute_result",
          "data": {
            "text/plain": [
              "Text(0, 0.5, 'million metric tonnes of plastic waste')"
            ]
          },
          "metadata": {},
          "execution_count": 11
        },
        {
          "output_type": "display_data",
          "data": {
            "text/plain": [
              "<Figure size 432x288 with 1 Axes>"
            ],
            "image/png": "[encoded data removed]"
          },
          "metadata": {
            "needs_background": "light"
          }
        }
      ]
    },
    {
      "cell_type": "markdown",
      "source": [
        "###these result are of a best fit line but since the graph seems exponential we need to take the help of a polyfit function inorder to calculate a much more accurate value compared to the linear regression technique."
      ],
      "metadata": {
        "id": "ZSm8UBshbWLi"
      }
    },
    {
      "cell_type": "code",
      "source": [
        "Lin.fit(x.reshape(-1,1),y.reshape(-1,1))\n",
        "Rig.fit(x.reshape(-1,1),y.reshape(-1,1))\n",
        "eln.fit(x.reshape(-1,1),y.reshape(-1,1))\n",
        "print('linear regression result : ' , Lin.predict([[2050]]))\n",
        "print('using elastic net result : ' ,eln.predict([[2050]]))\n",
        "print('with the help of Ridge type regression : ' , Rig.predict([[2050]]))"
      ],
      "metadata": {
        "colab": {
          "base_uri": "https://localhost:8080/"
        },
        "id": "5smcgQrMXr1D",
        "outputId": "2cd289cd-ee38-459a-cc40-af652497e57d"
      },
      "execution_count": null,
      "outputs": [
        {
          "output_type": "stream",
          "name": "stdout",
          "text": [
            "linear regression result :  [[384.64285714]]\n",
            "using elastic net result :  [384.18405564]\n",
            "with the help of Ridge type regression :  [[384.53664508]]\n"
          ]
        }
      ]
    },
    {
      "cell_type": "code",
      "source": [
        "plt.plot(x,y,marker='o',color='black',mfc='red')\n",
        "plt.xlabel('Year')\n",
        "plt.ylabel('million metric tonnes of plastic waste')"
      ],
      "metadata": {
        "colab": {
          "base_uri": "https://localhost:8080/",
          "height": 296
        },
        "id": "WqSRk5AEXwHk",
        "outputId": "e2354ede-cb9f-4ddc-a72f-c1df5a431cbf"
      },
      "execution_count": null,
      "outputs": [
        {
          "output_type": "execute_result",
          "data": {
            "text/plain": [
              "Text(0, 0.5, 'million metric tonnes of plastic waste')"
            ]
          },
          "metadata": {},
          "execution_count": 13
        },
        {
          "output_type": "display_data",
          "data": {
            "text/plain": [
              "<Figure size 432x288 with 1 Axes>"
            ],
            "image/png": "[encoded data removed]"
          },
          "metadata": {
            "needs_background": "light"
          }
        }
      ]
    },
    {
      "cell_type": "code",
      "source": [
        "model=np.polyfit(x,y,3) # cubic functions seems right enough for the graph"
      ],
      "metadata": {
        "id": "fwJ4T1xsX1Lu"
      },
      "execution_count": null,
      "outputs": []
    },
    {
      "cell_type": "code",
      "source": [
        "predict=np.poly1d(model)"
      ],
      "metadata": {
        "id": "20OFvhS2X7Wg"
      },
      "execution_count": null,
      "outputs": []
    },
    {
      "cell_type": "code",
      "source": [
        "list1=list(range(2020,2055,10))\n",
        "list1"
      ],
      "metadata": {
        "colab": {
          "base_uri": "https://localhost:8080/"
        },
        "id": "wfSJ-FesX9tg",
        "outputId": "a55496f5-6004-424d-eabf-77445ca9443b"
      },
      "execution_count": null,
      "outputs": [
        {
          "output_type": "execute_result",
          "data": {
            "text/plain": [
              "[2020, 2030, 2040, 2050]"
            ]
          },
          "metadata": {},
          "execution_count": 16
        }
      ]
    },
    {
      "cell_type": "code",
      "source": [
        "list2=[]\n",
        "for i in list1:\n",
        "    list2.append(predict(i))\n",
        "for i in list1 :\n",
        "    xl.append(i)\n",
        "for i in list2 :\n",
        "    yl.append(i)\n",
        "xl"
      ],
      "metadata": {
        "colab": {
          "base_uri": "https://localhost:8080/"
        },
        "id": "Vqw--D7HX_y8",
        "outputId": "894b4a7d-a173-4c2a-cda3-5a8fb1429c08"
      },
      "execution_count": null,
      "outputs": [
        {
          "output_type": "execute_result",
          "data": {
            "text/plain": [
              "[1950.0,\n",
              " 1960.0,\n",
              " 1970.0,\n",
              " 1980.0,\n",
              " 1990.0,\n",
              " 2000.0,\n",
              " 2010.0,\n",
              " 2020,\n",
              " 2030,\n",
              " 2040,\n",
              " 2050]"
            ]
          },
          "metadata": {},
          "execution_count": 17
        }
      ]
    },
    {
      "cell_type": "code",
      "source": [
        "plt.plot(xl,yl,marker='o',mfc='red',color='black')\n",
        "plt.xlabel('Year')\n",
        "plt.ylabel('million metric tonnes of plastic waste')"
      ],
      "metadata": {
        "colab": {
          "base_uri": "https://localhost:8080/",
          "height": 296
        },
        "id": "CP3YYdQ_YCYp",
        "outputId": "a19fdd33-c631-4ef3-87af-42ec5ebc7fb6"
      },
      "execution_count": null,
      "outputs": [
        {
          "output_type": "execute_result",
          "data": {
            "text/plain": [
              "Text(0, 0.5, 'million metric tonnes of plastic waste')"
            ]
          },
          "metadata": {},
          "execution_count": 18
        },
        {
          "output_type": "display_data",
          "data": {
            "text/plain": [
              "<Figure size 432x288 with 1 Axes>"
            ],
            "image/png": "[encoded data removed]"
          },
          "metadata": {
            "needs_background": "light"
          }
        }
      ]
    },
    {
      "cell_type": "code",
      "source": [
        "predict([[2050]])"
      ],
      "metadata": {
        "colab": {
          "base_uri": "https://localhost:8080/"
        },
        "id": "dh3GXgPHYGL0",
        "outputId": "859f459c-2972-4092-9d31-6a6d9429145a"
      },
      "execution_count": null,
      "outputs": [
        {
          "output_type": "execute_result",
          "data": {
            "text/plain": [
              "array([[1319.28571447]])"
            ]
          },
          "metadata": {},
          "execution_count": 19
        }
      ]
    },
    {
      "cell_type": "code",
      "source": [
        "colours=['green','green','green','green','green','yellow','yellow','orange','orange','red','red','red']\n",
        "plt.bar(xl,yl,align='center',width=5,color=['green','green','green','green','green','yellow','yellow','orange','orange','red'])"
      ],
      "metadata": {
        "colab": {
          "base_uri": "https://localhost:8080/",
          "height": 282
        },
        "id": "2f8PrdGaYJnW",
        "outputId": "7bbecb7c-52d7-4605-ffc2-6391b5b605d4"
      },
      "execution_count": null,
      "outputs": [
        {
          "output_type": "execute_result",
          "data": {
            "text/plain": [
              "<BarContainer object of 11 artists>"
            ]
          },
          "metadata": {},
          "execution_count": 20
        },
        {
          "output_type": "display_data",
          "data": {
            "text/plain": [
              "<Figure size 432x288 with 1 Axes>"
            ],
            "image/png": "[encoded data removed]"
          },
          "metadata": {
            "needs_background": "light"
          }
        }
      ]
    },
    {
      "cell_type": "markdown",
      "source": [
        "###following the predicted projection we could conclude an exponential increase in the plastic waste in the upcoming decades if any laws against their use arent strictly followed or mandated. but their seems to be another economical advantage conjoined to the fact that plastic waste is mostly recyclable ."
      ],
      "metadata": {
        "id": "HNcMoFI1bllZ"
      }
    },
    {
      "cell_type": "code",
      "source": [
        "from IPython import display\n",
        "display.Image(\"/content/Typical-composition-of-plastic-waste-within-MSW-12.png\")"
      ],
      "metadata": {
        "colab": {
          "base_uri": "https://localhost:8080/",
          "height": 291
        },
        "id": "lh9EYWRGYNNm",
        "outputId": "745f8af2-d6a2-4ea8-c10c-ea46e20e6038"
      },
      "execution_count": null,
      "outputs": [
        {
          "output_type": "execute_result",
          "data": {
            "image/png": "[encoded data removed]",
            "text/plain": [
              "<IPython.core.display.Image object>"
            ]
          },
          "metadata": {},
          "execution_count": 21
        }
      ]
    },
    {
      "cell_type": "markdown",
      "source": [
        "####above are the percentages of plastics in use and the quantity of them constituting the waste part. and there respective cost in Rupees per kg are :"
      ],
      "metadata": {
        "id": "s_yQNGc1brUD"
      }
    },
    {
      "cell_type": "code",
      "source": [
        "dfc=20*0.23 + 50*0.19+40*0.14+100*0.06+100*0.09+3*0.10+50*0.19\n",
        "dfc # average cost per kg"
      ],
      "metadata": {
        "colab": {
          "base_uri": "https://localhost:8080/"
        },
        "id": "17GgpykVY2x1",
        "outputId": "14a45090-4713-4ac7-dba6-a19d608e16fe"
      },
      "execution_count": null,
      "outputs": [
        {
          "output_type": "execute_result",
          "data": {
            "text/plain": [
              "44.5"
            ]
          },
          "metadata": {},
          "execution_count": 22
        }
      ]
    },
    {
      "cell_type": "markdown",
      "source": [
        "####dfc is the average cost of a kg of plastic in india hence to calculate total money generated by plastic waste in 2040 we have to have the predicted amount of plastic generated in 2040 and multiply it with the cost of per kg of plastic waste"
      ],
      "metadata": {
        "id": "fF7hmQxdb0zp"
      }
    },
    {
      "cell_type": "code",
      "source": [
        "value_2040_wasteInKG=predict([[2040]])*1000000000 # converting Million metric tonnes to kg\n",
        "per_kg_cost=dfc"
      ],
      "metadata": {
        "id": "D6aT1ilsY_oe"
      },
      "execution_count": null,
      "outputs": []
    },
    {
      "cell_type": "code",
      "source": [
        "Total_revenue_by_plastic_recycling=value_2040_wasteInKG*per_kg_cost\n",
        "print(\"total amount generated by recycling and selling plastic according to raw indian market price in Rupees currently in 2021:\")\n",
        "Total_revenue_by_plastic_recycling"
      ],
      "metadata": {
        "colab": {
          "base_uri": "https://localhost:8080/"
        },
        "id": "4oSuueRMZCbN",
        "outputId": "e03b97a4-3d0f-4974-c5c6-9fb20d835bfb"
      },
      "execution_count": null,
      "outputs": [
        {
          "output_type": "stream",
          "name": "stdout",
          "text": [
            "total amount generated by recycling and selling plastic according to raw indian market price in Rupees currently in 2021:\n"
          ]
        },
        {
          "output_type": "execute_result",
          "data": {
            "text/plain": [
              "array([[4.22008333e+13]])"
            ]
          },
          "metadata": {},
          "execution_count": 30
        }
      ]
    },
    {
      "cell_type": "code",
      "source": [],
      "metadata": {
        "id": "JNUScq8yX_uX"
      },
      "execution_count": null,
      "outputs": []
    },
    {
      "cell_type": "markdown",
      "source": [
        "##422,008,333,00,000 Rs of amount is generated by selling all possible recyclable plastic waste about 572,629,015,164.36 dollars as of 08-09-2021 [ the predicted value is for waste in 2040]. the value is equialent to 10 times the current total GDP of Germany\n",
        "##on the other hand only a fraction of it is being recycled for example in india only 9% of total plastic waste was recycled 1 time."
      ],
      "metadata": {
        "id": "l_k629iPZXiz"
      }
    },
    {
      "cell_type": "markdown",
      "source": [
        "###Approximately 6.3 billion tonnes of this has been discarded as waste, of which around 79% has accumulated in landfills or the natural environment, 12% was incinerated, and 9% has been recycled, although only ~1% of all plastic has ever been recycled more than once. - https://en.wikipedia.org/wiki/Plastic_recycling\n",
        "\n",
        "###the potential in plastic recycling business is pretty much evident by the predicted amount of money one could generate by recycling it.\n",
        "\n",
        "###in fact larger business firms have started investing platic reuse programmes :\n",
        "###Managers of American Airlines and Coca-Cola have made buying recycled products part of their overall business strategies."
      ],
      "metadata": {
        "id": "KiZAeWf8ZxlO"
      }
    },
    {
      "cell_type": "markdown",
      "source": [
        "#in fact larger business firms have started investing platic reuse programmes :\n",
        "#Managers of American Airlines and Coca-Cola have made buying recycled products part of their overall business strategies."
      ],
      "metadata": {
        "id": "EBOcVuEnZ993"
      }
    }
  ]
}